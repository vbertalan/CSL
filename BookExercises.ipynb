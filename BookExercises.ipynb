{
 "cells": [
  {
   "cell_type": "code",
   "execution_count": 1,
   "metadata": {},
   "outputs": [],
   "source": [
    "import numpy as np\n",
    "from scipy import stats\n",
    "\n",
    "class BookSCM:\n",
    "    def __init__(self, random_seed=None):\n",
    "        self.random_seed = random_seed\n",
    "        self.u_0 = stats.uniform()\n",
    "        self.u_1 = stats.norm()\n",
    "\n",
    "    def sample(self, sample_size=100):\n",
    "        \"\"\"Samples from the SCM\"\"\"\n",
    "        if self.random_seed:\n",
    "            np.random.seed(self.random_seed)\n",
    "        u_0 = self.u_0.rvs(sample_size)\n",
    "        u_1 = self.u_1.rvs(sample_size)\n",
    "        a = u_0 > .61\n",
    "        b = (a + .5 * u_1) > .2\n",
    "        return a, b"
   ]
  },
  {
   "cell_type": "code",
   "execution_count": 3,
   "metadata": {},
   "outputs": [
    {
     "data": {
      "text/plain": [
       "((100,), (100,))"
      ]
     },
     "execution_count": 3,
     "metadata": {},
     "output_type": "execute_result"
    }
   ],
   "source": [
    "scm = BookSCM(random_seed=45)\n",
    "buy_book_a, buy_book_b = scm.sample(100)\n",
    "buy_book_a.shape, buy_book_b.shape"
   ]
  },
  {
   "cell_type": "code",
   "execution_count": 4,
   "metadata": {},
   "outputs": [
    {
     "name": "stdout",
     "output_type": "stream",
     "text": [
      "Probability of buying book A given B: 0.638\n"
     ]
    }
   ],
   "source": [
    "proba_book_a_given_book_b = buy_book_a[buy_book_b].sum() / buy_book_a[buy_book_b].shape[0]\n",
    "print(f'Probability of buying book A given B: {proba_book_a_given_book_b:0.3f}')"
   ]
  },
  {
   "cell_type": "code",
   "execution_count": 6,
   "metadata": {},
   "outputs": [],
   "source": [
    "import numpy as np\n",
    "from scipy import stats\n",
    "\n",
    "class BookSCM:\n",
    "    def __init__(self, random_seed=None):\n",
    "        self.random_seed = random_seed\n",
    "        self.u_0 = stats.uniform(-2,2)\n",
    "        self.u_1 = stats.norm()\n",
    "\n",
    "    def sample(self, sample_size=100):\n",
    "        \"\"\"Samples from the SCM\"\"\"\n",
    "        if self.random_seed:\n",
    "            np.random.seed(self.random_seed)\n",
    "        u_0 = self.u_0.rvs(sample_size)\n",
    "        u_1 = self.u_1.rvs(sample_size)\n",
    "        a = u_0\n",
    "        b = a*a + 0.2 * u_1 \n",
    "        return a, b"
   ]
  },
  {
   "cell_type": "code",
   "execution_count": 8,
   "metadata": {},
   "outputs": [
    {
     "name": "stdout",
     "output_type": "stream",
     "text": [
      "Mean of B before any intervention: 1.227\n",
      "Variance of B before any intervention: 1.400\n",
      "Correlation between A and B:\n",
      "r = -0.953; p =0.000\n",
      "\n"
     ]
    }
   ],
   "source": [
    "u_0 = stats.uniform(-2,2)\n",
    "u_1 = stats.norm()\n",
    "u_0 = u_0.rvs(100)\n",
    "u_1 = u_1.rvs(100)\n",
    "a = u_0\n",
    "b = a*a + 0.2 * u_1 \n",
    "\n",
    "r, p = stats.pearsonr(a, b)\n",
    "\n",
    "print(f'Mean of B before any intervention: {b.mean():.3f}')\n",
    "\n",
    "print(f'Variance of B before any intervention: {b.var():.3f}')\n",
    "\n",
    "print(f'Correlation between A and B:\\nr = {r:.3f}; p ={p:.3f}\\n')"
   ]
  }
 ],
 "metadata": {
  "kernelspec": {
   "display_name": "Python 3",
   "language": "python",
   "name": "python3"
  },
  "language_info": {
   "codemirror_mode": {
    "name": "ipython",
    "version": 3
   },
   "file_extension": ".py",
   "mimetype": "text/x-python",
   "name": "python",
   "nbconvert_exporter": "python",
   "pygments_lexer": "ipython3",
   "version": "3.10.12"
  }
 },
 "nbformat": 4,
 "nbformat_minor": 2
}
