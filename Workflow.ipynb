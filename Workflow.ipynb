{
 "cells": [
  {
   "cell_type": "code",
   "execution_count": 137,
   "metadata": {},
   "outputs": [],
   "source": [
    "## Step 0 - Importing libraries and paths\n",
    "\n",
    "import DrainMethod\n",
    "import sys\n",
    "import os\n",
    "\n",
    "## General parameters \n",
    "\n",
    "input_dir = os.path.join(os.getcwd(), \"logs\") # The input directory of raw logs\n",
    "output_dir = os.path.join(os.getcwd(), \"parsings\")  # The output directory of parsing results\n",
    "vector_dir = os.path.join(os.getcwd(), \"embeddings\")  # The vector directory of converted logs\n",
    "\n",
    "#logName = 'ciena-mini.txt' \n",
    "logName = 'log-lines.txt' # Name of file to be parsed\n",
    "\n",
    "log_format = '<Content>' # Format of the file, if there are different fields\n",
    "regex = [] # Regex strings for Drain execution"
   ]
  },
  {
   "cell_type": "code",
   "execution_count": 138,
   "metadata": {},
   "outputs": [
    {
     "name": "stdout",
     "output_type": "stream",
     "text": [
      "\n",
      "=== Starting Drain Parsing ===\n",
      "/home/vbertalan/Downloads/CSL/CSL/logs/\n",
      "Parsing file: /home/vbertalan/Downloads/CSL/CSL/logs/log-lines.txt\n"
     ]
    },
    {
     "name": "stderr",
     "output_type": "stream",
     "text": [
      "Parsing Progress: 100%|██████████| 15710/15710 [00:00<00:00, 21586.95it/s]\n"
     ]
    }
   ],
   "source": [
    "## Step 1 - Parsing using Drain\n",
    "\n",
    "from pathlib import Path\n",
    "import pickle\n",
    "\n",
    "## Drain parameters\n",
    "st = 0.5 # Drain similarity threshold\n",
    "depth = 5 # Max depth of the parsing tree\n",
    "\n",
    "## Parses file, using DrainMethod\n",
    "print('\\n=== Starting Drain Parsing ===')\n",
    "indir = os.path.join(input_dir, os.path.dirname(logName))\n",
    "print(indir)\n",
    "log_file = os.path.basename(logName)\n",
    "\n",
    "parser = DrainMethod.LogParser(log_format=log_format, indir=indir, outdir=output_dir, rex=regex, depth=depth, st=st)\n",
    "drain_results = parser.parse(log_file)"
   ]
  },
  {
   "cell_type": "code",
   "execution_count": 139,
   "metadata": {},
   "outputs": [],
   "source": [
    "## Step 2 - Slicing dataset\n",
    "\n",
    "import pandas as pd\n",
    "\n",
    "bin = 60\n",
    "dataset_size = len(drain_results)\n",
    "bin_number = int(dataset_size/bin)\n",
    "\n",
    "# Gets the unique template values\n",
    "## Talvez trocar para EventId?\n",
    "template_values = drain_results['EventTemplate'].unique()"
   ]
  },
  {
   "cell_type": "code",
   "execution_count": 152,
   "metadata": {},
   "outputs": [
    {
     "name": "stdout",
     "output_type": "stream",
     "text": [
      "CPU times: user 2.36 s, sys: 0 ns, total: 2.36 s\n",
      "Wall time: 2.36 s\n"
     ]
    }
   ],
   "source": [
    "%%time\n",
    "\n",
    "## Step 3 - Creating matrix\n",
    "\n",
    "import pandas as pd\n",
    "\n",
    "# Creating the DataFrame with zeros\n",
    "result_df = pd.DataFrame(0, index=range(len(template_values)), columns=range(1, bin_number + 1))\n",
    "\n",
    "# Inserting the 'Template' column\n",
    "result_df.insert(loc=0, column='Template', value=template_values)\n",
    "\n",
    "# Initializing column index\n",
    "col = 0\n",
    "\n",
    "# Iterating over drain_results\n",
    "for i, event_template in enumerate(drain_results['EventTemplate']):\n",
    "    # Finding the right column\n",
    "    if i % bin == 0 and col < bin_number:\n",
    "        col += 1\n",
    "\n",
    "    # Finding the right row\n",
    "    row = result_df.index[result_df['Template'] == event_template][0]\n",
    "    \n",
    "    # Updating the cell\n",
    "    result_df.at[row, col] += 1"
   ]
  },
  {
   "cell_type": "code",
   "execution_count": 149,
   "metadata": {},
   "outputs": [
    {
     "name": "stdout",
     "output_type": "stream",
     "text": [
      "                                              Template   1   2   3   4   5  \\\n",
      "0            jq: error (at <*> null (null) has no keys   4   0   0   0   0   \n",
      "1                   <*> line <*> <*> command not found   1   0   0   0   0   \n",
      "2        cp: cannot stat <*> No such file or directory  50  60  60  60  60   \n",
      "3              /bin/bash: cleartool: command not found   1   0   0   0   0   \n",
      "4        sed: can't read <*> No such file or directory   1   0   0   0   0   \n",
      "..                                                 ...  ..  ..  ..  ..  ..   \n",
      "137  NOTE: recipe ofm1t2-32-gitrAUTOINC+9589a088de_...   0   0   0   0   0   \n",
      "138  [ERROR] Failed to execute goal org.apache.mave...   0   0   0   0   0   \n",
      "139                        : no newline at end of file   0   0   0   0   0   \n",
      "140  rm: cannot remove ‘cache/pots-pts/u-boot-a9’: ...   0   0   0   0   0   \n",
      "141  CC apps/osrpcp/protocols/PNNI/routing/comm/usr...   0   0   0   0   0   \n",
      "\n",
      "      6   7   8   9  ...  252  253  254  255  256  257  258  259  260  261  \n",
      "0     0   0   1   2  ...    0    0    0    0    0    0    0    0    0    1  \n",
      "1     0   0   0   0  ...    0    0    0    0    0    0    0    0    0    0  \n",
      "2    60  60  55  52  ...    1    1    0    1    0    1    1    0    1   11  \n",
      "3     0   0   0   0  ...    0    0    0    0    0    0    0    0    0    0  \n",
      "4     0   0   0   0  ...    0    0    0    0    0    0    0    0    0    0  \n",
      "..   ..  ..  ..  ..  ...  ...  ...  ...  ...  ...  ...  ...  ...  ...  ...  \n",
      "137   0   0   0   0  ...    0    0    0    0    0    0    0    0    0    0  \n",
      "138   0   0   0   0  ...    0    0    0    0    0    0    0    0    0    0  \n",
      "139   0   0   0   0  ...    0    0    0    0    0    0    0    0    0    0  \n",
      "140   0   0   0   0  ...    0    0    0    0    0    0    0    0    0    0  \n",
      "141   0   0   0   0  ...    0    0    0    0    0    0    0    0    0    0  \n",
      "\n",
      "[142 rows x 262 columns]\n"
     ]
    }
   ],
   "source": [
    "## Step 4 (optional) - Prints dataframe to external CSV \n",
    "\n",
    "# Print to CSV\n",
    "print(result_df)\n",
    "result_df.to_csv('out.csv', index=False, sep='¡')"
   ]
  },
  {
   "cell_type": "code",
   "execution_count": 157,
   "metadata": {},
   "outputs": [
    {
     "name": "stdout",
     "output_type": "stream",
     "text": [
      "Defaulting to user installation because normal site-packages is not writeable\n",
      "Collecting matplotlib\n",
      "  Downloading matplotlib-3.8.3-cp310-cp310-manylinux_2_17_x86_64.manylinux2014_x86_64.whl.metadata (5.8 kB)\n",
      "Collecting contourpy>=1.0.1 (from matplotlib)\n",
      "  Downloading contourpy-1.2.0-cp310-cp310-manylinux_2_17_x86_64.manylinux2014_x86_64.whl.metadata (5.8 kB)\n",
      "Collecting cycler>=0.10 (from matplotlib)\n",
      "  Downloading cycler-0.12.1-py3-none-any.whl.metadata (3.8 kB)\n",
      "Collecting fonttools>=4.22.0 (from matplotlib)\n",
      "  Downloading fonttools-4.50.0-cp310-cp310-manylinux_2_17_x86_64.manylinux2014_x86_64.whl.metadata (159 kB)\n",
      "\u001b[2K     \u001b[90m━━━━━━━━━━━━━━━━━━━━━━━━━━━━━━━━━━━━━━━\u001b[0m \u001b[32m159.4/159.4 kB\u001b[0m \u001b[31m4.9 MB/s\u001b[0m eta \u001b[36m0:00:00\u001b[0m\n",
      "\u001b[?25hCollecting kiwisolver>=1.3.1 (from matplotlib)\n",
      "  Downloading kiwisolver-1.4.5-cp310-cp310-manylinux_2_12_x86_64.manylinux2010_x86_64.whl.metadata (6.4 kB)\n",
      "Requirement already satisfied: numpy<2,>=1.21 in /home/vbertalan/.local/lib/python3.10/site-packages (from matplotlib) (1.24.4)\n",
      "Requirement already satisfied: packaging>=20.0 in /home/vbertalan/.local/lib/python3.10/site-packages (from matplotlib) (23.0)\n",
      "Requirement already satisfied: pillow>=8 in /usr/lib/python3/dist-packages (from matplotlib) (9.0.1)\n",
      "Requirement already satisfied: pyparsing>=2.3.1 in /usr/lib/python3/dist-packages (from matplotlib) (2.4.7)\n",
      "Requirement already satisfied: python-dateutil>=2.7 in /home/vbertalan/.local/lib/python3.10/site-packages (from matplotlib) (2.8.2)\n",
      "Requirement already satisfied: six>=1.5 in /home/vbertalan/.local/lib/python3.10/site-packages (from python-dateutil>=2.7->matplotlib) (1.16.0)\n",
      "Downloading matplotlib-3.8.3-cp310-cp310-manylinux_2_17_x86_64.manylinux2014_x86_64.whl (11.6 MB)\n",
      "\u001b[2K   \u001b[90m━━━━━━━━━━━━━━━━━━━━━━━━━━━━━━━━━━━━━━━━\u001b[0m \u001b[32m11.6/11.6 MB\u001b[0m \u001b[31m9.9 MB/s\u001b[0m eta \u001b[36m0:00:00\u001b[0m:00:01\u001b[0m00:01\u001b[0m\n",
      "\u001b[?25hDownloading contourpy-1.2.0-cp310-cp310-manylinux_2_17_x86_64.manylinux2014_x86_64.whl (310 kB)\n",
      "\u001b[2K   \u001b[90m━━━━━━━━━━━━━━━━━━━━━━━━━━━━━━━━━━━━━━━━\u001b[0m \u001b[32m310.7/310.7 kB\u001b[0m \u001b[31m9.3 MB/s\u001b[0m eta \u001b[36m0:00:00\u001b[0m\n",
      "\u001b[?25hDownloading cycler-0.12.1-py3-none-any.whl (8.3 kB)\n",
      "Downloading fonttools-4.50.0-cp310-cp310-manylinux_2_17_x86_64.manylinux2014_x86_64.whl (4.6 MB)\n",
      "\u001b[2K   \u001b[90m━━━━━━━━━━━━━━━━━━━━━━━━━━━━━━━━━━━━━━━━\u001b[0m \u001b[32m4.6/4.6 MB\u001b[0m \u001b[31m10.1 MB/s\u001b[0m eta \u001b[36m0:00:00\u001b[0m00:01\u001b[0m00:01\u001b[0m\n",
      "\u001b[?25hDownloading kiwisolver-1.4.5-cp310-cp310-manylinux_2_12_x86_64.manylinux2010_x86_64.whl (1.6 MB)\n",
      "\u001b[2K   \u001b[90m━━━━━━━━━━━━━━━━━━━━━━━━━━━━━━━━━━━━━━━━\u001b[0m \u001b[32m1.6/1.6 MB\u001b[0m \u001b[31m8.3 MB/s\u001b[0m eta \u001b[36m0:00:00\u001b[0m:00:01\u001b[0m00:01\u001b[0m\n",
      "\u001b[?25hInstalling collected packages: kiwisolver, fonttools, cycler, contourpy, matplotlib\n",
      "Successfully installed contourpy-1.2.0 cycler-0.12.1 fonttools-4.50.0 kiwisolver-1.4.5 matplotlib-3.8.3\n"
     ]
    },
    {
     "name": "stderr",
     "output_type": "stream",
     "text": [
      "Working for n conditional variables: 5: 100%|██████████| 5/5 [02:54<00:00, 34.91s/it]\n"
     ]
    },
    {
     "name": "stdout",
     "output_type": "stream",
     "text": [
      "21\n"
     ]
    },
    {
     "name": "stderr",
     "output_type": "stream",
     "text": [
      "Working for n conditional variables: 5: 100%|██████████| 5/5 [00:21<00:00,  4.35s/it]\n"
     ]
    },
    {
     "name": "stdout",
     "output_type": "stream",
     "text": [
      "33\n"
     ]
    },
    {
     "data": {
      "image/png": "[encoded data removed]",
      "text/plain": [
       "<Figure size 640x480 with 1 Axes>"
      ]
     },
     "metadata": {},
     "output_type": "display_data"
    }
   ],
   "source": [
    "## Step 5 - Using PGMPY to calculate causality\n",
    "\n",
    "# Use the PC algorithm to infer the causal structure\n",
    "\n",
    "!pip install matplotlib\n",
    "\n",
    "from pgmpy.estimators import PC\n",
    "from pgmpy.independencies import Independencies\n",
    "\n",
    "df_causality = result_df.drop(['Template'], axis=1)\n",
    "df_causality.insert(0, 'Template', range(0,len(template_values)))\n",
    "df_causality = df_causality.T\n",
    "\n",
    "est = PC(df_causality)\n",
    "model_chi = est.estimate(ci_test='chi_square')\n",
    "print(len(model_chi.edges()))\n",
    "model_gsq, _ = est.estimate(ci_test='g_sq', return_type='skeleton')\n",
    "print(len(model_gsq.edges()))\n",
    "\n",
    "# Visualize the resulting causal graph\n",
    "import networkx as nx\n",
    "import matplotlib.pyplot as plt\n",
    "\n",
    "nx_graph = nx.DiGraph(model_chi.edges())\n",
    "nx.draw(nx_graph, with_labels=True)\n",
    "plt.title(\"Causal Graph using PC Algorithm\")\n",
    "plt.show()"
   ]
  }
 ],
 "metadata": {
  "kernelspec": {
   "display_name": "base",
   "language": "python",
   "name": "python3"
  },
  "language_info": {
   "codemirror_mode": {
    "name": "ipython",
    "version": 3
   },
   "file_extension": ".py",
   "mimetype": "text/x-python",
   "name": "python",
   "nbconvert_exporter": "python",
   "pygments_lexer": "ipython3",
   "version": "3.10.12"
  }
 },
 "nbformat": 4,
 "nbformat_minor": 2
}
