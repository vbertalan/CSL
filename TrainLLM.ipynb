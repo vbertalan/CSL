{
 "cells": [
  {
   "cell_type": "code",
   "execution_count": 5,
   "metadata": {},
   "outputs": [
    {
     "data": {
      "text/plain": [
       "'key: /nfs/appdata/6500_build/rel/6500_16.90/290147/logs/_6500_build.cc/400G_otn_fmotr_simbc, value: [tput no value for term and no t specified, tput no value for term and no t specified, tput no value for term and no t specified, tput no value for term and no t specified, tput no value for term and no t specified, mv cannot stat no such file or directory, sed can t read temp no such file or directory, error gnu compilers before are not supported anymore, error unsupported toolchain, no such file, cp cannot stat no such file or directory, cp cannot stat no such file or directory, cp cannot stat no such file or directory, cp cannot stat no such file or directory, cp cannot stat no such file or directory, cp cannot stat no such file or directory, cp cannot stat no such file or directory, cp cannot stat no such file or directory, cp cannot stat no such file or directory, cp cannot stat no such file or directory, tput no value for term and no t specified]\\n'"
      ]
     },
     "execution_count": 5,
     "metadata": {},
     "output_type": "execute_result"
    }
   ],
   "source": [
    "file_path = \"/home/vbertalan/Downloads/gpt2_data.json\"\n",
    "\n",
    "def read_first_line_of_json(file_path):\n",
    "    \"\"\"\n",
    "    Reads and returns the first line from a JSON file.\n",
    "    \n",
    "    :param file_path: Path to the JSON file\n",
    "    :return: The first line of the file as a string (including newline if present)\n",
    "    \"\"\"\n",
    "    with open(file_path, 'r', encoding='utf-8') as json_file:\n",
    "        first_line = json_file.readline()\n",
    "    return first_line\n",
    "\n",
    "read_first_line_of_json(file_path)"
   ]
  },
  {
   "cell_type": "code",
   "execution_count": 7,
   "metadata": {},
   "outputs": [
    {
     "name": "stdout",
     "output_type": "stream",
     "text": [
      "['tput no value for term and no t specified, tput no value for term and no t specified, tput no value for term and no t specified, tput no value for term and no t specified, tput no value for term and no t specified, mv cannot stat no such file or directory, sed can t read temp no such file or directory, error gnu compilers before are not supported anymore, error unsupported toolchain, no such file, cp cannot stat no such file or directory, cp cannot stat no such file or directory, cp cannot stat no such file or directory, cp cannot stat no such file or directory, cp cannot stat no such file or directory, cp cannot stat no such file or directory, cp cannot stat no such file or directory, cp cannot stat no such file or directory, cp cannot stat no such file or directory, cp cannot stat no such file or directory, tput no value for term and no t specified', 'jq error at stdin null null has no keys, tput no value for term and no t specified, tput no value for term and no t specified, tput no value for term and no t specified, tput no value for term and no t specified, cp r not specified omitting directory, cp r not specified omitting directory, cp cannot stat no such file or directory, cp cannot stat no such file or directory, cp cannot stat no such file or directory, cp cannot stat no such file or directory, cp cannot stat no such file or directory, cp cannot stat no such file or directory, cp cannot stat no such file or directory, cp cannot stat no such file or directory, cp cannot stat no such file or directory, cp cannot stat no such file or directory', 'find no such file or directory, find no such file or directory, find no such file or directory, find no such file or directory, find no such file or directory, find no such file or directory, find no such file or directory, find no such file or directory, find no such file or directory, find no such file or directory, fail, fail, fail, fail, fail, fail, fail, fail, fail, fail, compile failed using, compile failed using, compile failed using, compile failed using, compile failed using, compile failed using, compile failed using, compile failed using, compile failed using, compile failed using, cc error unrecognized command line option, cc error unrecognized command line option, cc error unrecognized command line option, cc error unrecognized command line option, cc error unrecognized command line option, cc error unrecognized command line option, cc error unrecognized command line option, cc error unrecognized command line option, cc error unrecognized command line option, cc error unrecognized command line option, error python version is not available, no such file or directory, no such file or directory, no such file or directory, no such file or directory, no such file or directory, no such file or directory, no such file or directory, no such file or directory, no such file or directory, no such file or directory, error syntax error before, error syntax error before, error syntax error before, error syntax error before, error syntax error before, error syntax error before, error syntax error before token, error requested alignment is not a constant, error requested alignment is not a constant, error requested alignment is not a constant, error requested alignment is not a constant, error requested alignment is not a constant, error requested alignment is not a constant, error syntax error before, error syntax error before, error syntax error before, error syntax error before token, error syntax error before token, error syntax error before token, error syntax error before token, error syntax error before token, error syntax error before token, error syntax error before token, error undeclared first use in this function, error undeclared first use in this function, error undeclared first use in this function, error undeclared first use in this function, error each undeclared identifier is reported only once, error each undeclared identifier is reported only once, error each undeclared identifier is reported only once, error each undeclared identifier is reported only once, error each undeclared identifier is reported only once, error each undeclared identifier is reported only once, error each undeclared identifier is reported only once, error each undeclared identifier is reported only once, error each undeclared identifier is reported only once, error each undeclared identifier is reported only once, error for each function it appears in, error for each function it appears in, error for each function it appears in, error for each function it appears in, error for each function it appears in, error for each function it appears in, error for each function it appears in, error for each function it appears in, error for each function it appears in, error for each function it appears in, error syntax error before, error syntax error before token, error syntax error before token, error requested alignment is not a constant, error requested alignment is not a constant, error requested alignment is not a constant, error requested alignment is not a constant, error undeclared first use in this function, error undeclared first use in this function, error undeclared first use in this function, error undeclared first use in this function, error undeclared first use in this function, error undeclared first use in this function, error conflicting types for, error previous definition of was here, error conflicting types for, error conflicting types for, error previous declaration of was here, error previous declaration of was here, cannot open directory dhcp, cannot open directory grub d, cp cannot stat no such file or directory, cp cannot stat no such file or directory, cp cannot stat no such file or directory, cp cannot stat no such file or directory, cp cannot stat no such file or directory, cp cannot stat no such file or directory, cp cannot stat no such file or directory, cp cannot stat no such file or directory, cp cannot stat no such file or directory, cp cannot stat no such file or directory', 'fail, compile failed using, tput no value for term and no t specified, tput no value for term and no t specified, tput no value for term and no t specified, tput no value for term and no t specified, tput no value for term and no t specified, tput no value for term and no t specified, mv cannot stat no such file or directory, sed can t read temp no such file or directory, error gnu compilers before are not supported anymore, error unsupported toolchain, compile failed using, ccpentium linker input file unused because linking not done, ccpentium linker input file unused because linking not done, ccpentium linker input file unused because linking not done, ccpentium linker input file unused because linking not done, cc no such file or directory, cc no such file or directory, no such file, cp cannot stat no such file or directory, cp cannot stat no such file or directory, cp cannot stat no such file or directory, cp cannot stat no such file or directory, cp cannot stat no such file or directory, cp cannot stat no such file or directory, cp cannot stat no such file or directory, cp cannot stat no such file or directory, cp cannot stat no such file or directory, cp cannot stat no such file or directory, fail', 'find no such file or directory, find no such file or directory, find no such file or directory, find no such file or directory, find no such file or directory, find no such file or directory, find no such file or directory, find no such file or directory, find no such file or directory, find no such file or directory, line toolsetup command not found, cannot open directory grub d, cp cannot stat no such file or directory, cp cannot stat no such file or directory, cp cannot stat no such file or directory, cp cannot stat no such file or directory, cp cannot stat no such file or directory, cp cannot stat no such file or directory, cp cannot stat no such file or directory, cp cannot stat no such file or directory, cp cannot stat no such file or directory, cp cannot stat no such file or directory, cannot open directory dhcp', 'jq error at stdin null null has no keys, tput no value for term and no t specified, tput no value for term and no t specified, tput no value for term and no t specified, tput no value for term and no t specified', 'tput no value for term and no t specified, tput no value for term and no t specified, tput no value for term and no t specified, tput no value for term and no t specified', 'tput no value for term and no t specified, tput no value for term and no t specified, tput no value for term and no t specified, tput no value for term and no t specified, tput no value for term and no t specified, tput no value for term and no t specified, tput no value for term and no t specified, tput no value for term and no t specified, mv cannot stat no such file or directory, sed can t read temp no such file or directory, cccp invalid option, ccppc linker input file unused because linking not done, ccppc linker input file unused because linking not done, ccppc linker input file unused because linking not done, ccppc linker input file unused because linking not done, cp cannot stat no such file or directory, cp cannot stat no such file or directory, cp cannot stat no such file or directory, cp cannot stat no such file or directory, cp cannot stat no such file or directory, cp cannot stat no such file or directory, cp cannot stat no such file or directory, cp cannot stat no such file or directory, cp cannot stat no such file or directory, cp cannot stat no such file or directory', 'find no such file or directory, find no such file or directory, find no such file or directory, find no such file or directory, find no such file or directory, find no such file or directory, find no such file or directory, find no such file or directory, find no such file or directory, find no such file or directory, line toolsetup command not found, cannot open directory dhcp, cannot open directory grub d, cp cannot stat no such file or directory, cp cannot stat no such file or directory, cp cannot stat no such file or directory, cp cannot stat no such file or directory, cp cannot stat no such file or directory, cp cannot stat no such file or directory, cp cannot stat no such file or directory, cp cannot stat no such file or directory, cp cannot stat no such file or directory, cp cannot stat no such file or directory', 'mv cannot stat no such file or directory, sed can t read temp no such file or directory, tput no value for term and no t specified, tput no value for term and no t specified, tput no value for term and no t specified, tput no value for term and no t specified, tput no value for term and no t specified, tput no value for term and no t specified, error gnu compilers before are not supported anymore, error unsupported toolchain, fail, compile failed using, error declaration of c function conflicts with, error previous declaration here, error declaration of c function conflicts with, error previous declaration here, no such file, cp cannot stat no such file or directory, cp cannot stat no such file or directory, cp cannot stat no such file or directory, cp cannot stat no such file or directory, cp cannot stat no such file or directory, cp cannot stat no such file or directory, cp cannot stat no such file or directory, cp cannot stat no such file or directory, cp cannot stat no such file or directory, cp cannot stat no such file or directory', 'find no such file or directory, find no such file or directory, find no such file or directory, find no such file or directory, find no such file or directory, find no such file or directory, find no such file or directory, find no such file or directory, find no such file or directory, find no such file or directory, line toolsetup command not found, cannot open directory dhcp, cannot open directory grub d, cp cannot stat no such file or directory, cp cannot stat no such file or directory, cp cannot stat no such file or directory, cp cannot stat no such file or directory, cp cannot stat no such file or directory, cp cannot stat no such file or directory, cp cannot stat no such file or directory, cp cannot stat no such file or directory, cp cannot stat no such file or directory, cp cannot stat no such file or directory', 'jq error at stdin null null has no keys, tput no value for term and no t specified, tput no value for term and no t specified, tput no value for term and no t specified, tput no value for term and no t specified', 'find no such file or directory, find no such file or directory, find no such file or directory, find no such file or directory, find no such file or directory, find no such file or directory, find no such file or directory, find no such file or directory, find no such file or directory, find no such file or directory, fail, fail, fail, fail, fail, fail, fail, fail, fail, compile failed using, compile failed using, compile failed using, compile failed using, compile failed using, compile failed using, compile failed using, compile failed using, compile failed using, compile failed using, cc error unrecognized command line option, cc error unrecognized command line option, cc error unrecognized command line option, cc error unrecognized command line option, cc error unrecognized command line option, cc error unrecognized command line option, cc error unrecognized command line option, cc error unrecognized command line option, cc error unrecognized command line option, cc error unrecognized command line option, error python version is not available, no such file or directory, no such file or directory, no such file or directory, no such file or directory, no such file or directory, no such file or directory, no such file or directory, no such file or directory, no such file or directory, no such file or directory, error syntax error before, error syntax error before, error syntax error before, error syntax error before, error syntax error before, error syntax error before, error syntax error before token, error requested alignment is not a constant, error requested alignment is not a constant, error requested alignment is not a constant, error requested alignment is not a constant, error requested alignment is not a constant, error requested alignment is not a constant, error syntax error before, error syntax error before, error syntax error before, error syntax error before token, error syntax error before token, error syntax error before token, error syntax error before token, error syntax error before token, error syntax error before token, error syntax error before token, error undeclared first use in this function, error undeclared first use in this function, error undeclared first use in this function, error undeclared first use in this function, error each undeclared identifier is reported only once, error each undeclared identifier is reported only once, error each undeclared identifier is reported only once, error each undeclared identifier is reported only once, error each undeclared identifier is reported only once, error each undeclared identifier is reported only once, error each undeclared identifier is reported only once, error each undeclared identifier is reported only once, error each undeclared identifier is reported only once, error each undeclared identifier is reported only once, error for each function it appears in, error for each function it appears in, error for each function it appears in, error for each function it appears in, error for each function it appears in, error for each function it appears in, error for each function it appears in, error for each function it appears in, error for each function it appears in, error for each function it appears in, error syntax error before, error syntax error before token, error syntax error before token, error requested alignment is not a constant, error requested alignment is not a constant, error requested alignment is not a constant, error requested alignment is not a constant, error undeclared first use in this function, error undeclared first use in this function, error undeclared first use in this function, error undeclared first use in this function, error undeclared first use in this function, error undeclared first use in this function, error conflicting types for, error previous definition of was here, error conflicting types for, error conflicting types for, error previous declaration of was here, error previous declaration of was here, cannot open directory dhcp, cp cannot stat no such file or directory, cp cannot stat no such file or directory, cp cannot stat no such file or directory, cp cannot stat no such file or directory, cp cannot stat no such file or directory, cp cannot stat no such file or directory, cp cannot stat no such file or directory, cp cannot stat no such file or directory, cp cannot stat no such file or directory, cp cannot stat no such file or directory, fail, cannot open directory grub d', 'tput no value for term and no t specified, tput no value for term and no t specified, tput no value for term and no t specified, tput no value for term and no t specified, tput no value for term and no t specified, tput no value for term and no t specified, tput no value for term and no t specified, tput no value for term and no t specified, mv cannot stat no such file or directory, sed can t read temp no such file or directory, cccp invalid option', 'jq error at stdin null null has no keys, tput no value for term and no t specified, tput no value for term and no t specified, tput no value for term and no t specified, tput no value for term and no t specified', 'jq error at stdin null null has no keys, tput no value for term and no t specified, tput no value for term and no t specified, tput no value for term and no t specified, tput no value for term and no t specified', 'find no such file or directory, find no such file or directory, find no such file or directory, find no such file or directory, find no such file or directory, find no such file or directory, find no such file or directory, find no such file or directory, find no such file or directory, find no such file or directory, fail, fail, compile failed using, compile failed using, compile failed using, compile failed using, compile failed using, compile failed using, compile failed using, compile failed using, compile failed using, compile failed using, cc error unrecognized command line option, cc error unrecognized command line option, cc error unrecognized command line option, cc error unrecognized command line option, cc error unrecognized command line option, cc error unrecognized command line option, cc error unrecognized command line option, cc error unrecognized command line option, cc error unrecognized command line option, cc error unrecognized command line option, error python version is not available, no such file or directory, no such file or directory, no such file or directory, no such file or directory, no such file or directory, no such file or directory, no such file or directory, no such file or directory, no such file or directory, no such file or directory, error syntax error before, error syntax error before, error syntax error before, error syntax error before, error syntax error before, error syntax error before, error syntax error before token, error requested alignment is not a constant, error requested alignment is not a constant, error requested alignment is not a constant, error requested alignment is not a constant, error requested alignment is not a constant, error requested alignment is not a constant, error syntax error before, error syntax error before, error syntax error before, error syntax error before token, error syntax error before token, error syntax error before token, error syntax error before token, error syntax error before token, error syntax error before token, error syntax error before token, error undeclared first use in this function, error undeclared first use in this function, error undeclared first use in this function, error undeclared first use in this function, error each undeclared identifier is reported only once, error each undeclared identifier is reported only once, error each undeclared identifier is reported only once, error each undeclared identifier is reported only once, error each undeclared identifier is reported only once, error each undeclared identifier is reported only once, error each undeclared identifier is reported only once, error each undeclared identifier is reported only once, error each undeclared identifier is reported only once, error each undeclared identifier is reported only once, error for each function it appears in, error for each function it appears in, error for each function it appears in, error for each function it appears in, error for each function it appears in, error for each function it appears in, error for each function it appears in, error for each function it appears in, error for each function it appears in, error for each function it appears in, error syntax error before, error syntax error before token, error syntax error before token, error requested alignment is not a constant, error requested alignment is not a constant, error requested alignment is not a constant, error requested alignment is not a constant, error undeclared first use in this function, error undeclared first use in this function, error undeclared first use in this function, error undeclared first use in this function, error undeclared first use in this function, error undeclared first use in this function, error conflicting types for, error previous definition of was here, error conflicting types for, error conflicting types for, error previous declaration of was here, error previous declaration of was here, cannot open directory dhcp, cp cannot stat no such file or directory, cp cannot stat no such file or directory, cp cannot stat no such file or directory, cp cannot stat no such file or directory, cp cannot stat no such file or directory, cp cannot stat no such file or directory, cp cannot stat no such file or directory, cp cannot stat no such file or directory, cp cannot stat no such file or directory, cp cannot stat no such file or directory, fail, fail, fail, fail, fail, fail, fail, fail, cannot open directory grub d', 'cp cannot stat no such file or directory, jq error at stdin null null has no keys, find no such file or directory, line no such file or directory, line no such file or directory, cp cannot stat no such file or directory, cp cannot stat no such file or directory, cp cannot stat no such file or directory, cp cannot stat no such file or directory, cp cannot stat no such file or directory, cp cannot stat no such file or directory, cp cannot stat no such file or directory, cp cannot stat no such file or directory, cp cannot stat no such file or directory', 'tput no value for term and no t specified, tput no value for term and no t specified, cp cannot stat no such file or directory, cp cannot stat no such file or directory, cp cannot stat no such file or directory, cp cannot stat no such file or directory, cp cannot stat no such file or directory, cp cannot stat no such file or directory, cp cannot stat no such file or directory, cp cannot stat no such file or directory, cp cannot stat no such file or directory, cp cannot stat no such file or directory', 'tput no value for term and no t specified, tput no value for term and no t specified, mv cannot stat no such file or directory, sed can t read temp no such file or directory, cp cannot stat no such file or directory, cp cannot stat no such file or directory, cp cannot stat no such file or directory, cp cannot stat no such file or directory, cp cannot stat no such file or directory, cp cannot stat no such file or directory, cp cannot stat no such file or directory, cp cannot stat no such file or directory, cp cannot stat no such file or directory, cp cannot stat no such file or directory']\n"
     ]
    }
   ],
   "source": [
    "import json\n",
    "\n",
    "file_path = \"/home/vbertalan/Downloads/gpt2_data.json\"\n",
    "\n",
    "def extract_value_string(file_path):\n",
    "    \"\"\"\n",
    "    Reads the first 20 lines of a text file where each line has a format like:\n",
    "    'key: ..., value: [ ... ]'\n",
    "    and returns the string following 'value:' for each line, excluding any\n",
    "    leading '[' and trailing ']'.\n",
    "    \n",
    "    :param file_path: Path to your file\n",
    "    :return: List of strings (the part after 'value:' in each of the first 20 lines, \n",
    "             without the outer brackets)\n",
    "    \"\"\"\n",
    "    extracted_values = []\n",
    "    \n",
    "    with open(file_path, 'r', encoding='utf-8') as file:\n",
    "        for _ in range(20):\n",
    "            line = file.readline()\n",
    "            if not line:\n",
    "                # No more lines to read\n",
    "                break\n",
    "            \n",
    "            # Remove any leading/trailing whitespace\n",
    "            line = line.strip()\n",
    "            \n",
    "            # Split on \"value:\"\n",
    "            if \"value:\" in line:\n",
    "                parts = line.split(\"value:\", 1)  # Split once, into [before_value, after_value]\n",
    "                value_part = parts[1].strip()    # The substring after 'value:'\n",
    "                \n",
    "                # If the string starts with '[' and ends with ']', remove them\n",
    "                if value_part.startswith(\"[\") and value_part.endswith(\"]\"):\n",
    "                    value_part = value_part[1:-1].strip()\n",
    "                \n",
    "                extracted_values.append(value_part)\n",
    "            else:\n",
    "                # If the line doesn't contain \"value:\", append None or skip\n",
    "                extracted_values.append(None)\n",
    "    \n",
    "    return extracted_values\n",
    "\n",
    "mylist = extract_value_string(file_path)\n",
    "print(mylist)"
   ]
  },
  {
   "cell_type": "code",
   "execution_count": 9,
   "metadata": {},
   "outputs": [
    {
     "name": "stdout",
     "output_type": "stream",
     "text": [
      "jq error at stdin null null has no keys, tput no value for term and no t specified, tput no value for term and no t specified, tput no value for term and no t specified, tput no value for term and no t specified, cp r not specified omitting directory, cp r not specified omitting directory, cp cannot stat no such file or directory, cp cannot stat no such file or directory, cp cannot stat no such file or directory, cp cannot stat no such file or directory, cp cannot stat no such file or directory, cp cannot stat no such file or directory, cp cannot stat no such file or directory, cp cannot stat no such file or directory, cp cannot stat no such file or directory, cp cannot stat no such file or directory\n"
     ]
    }
   ],
   "source": [
    "print(mylist[1])"
   ]
  },
  {
   "cell_type": "code",
   "execution_count": 1,
   "metadata": {},
   "outputs": [
    {
     "name": "stderr",
     "output_type": "stream",
     "text": [
      "/home/vbertalan/anaconda3/lib/python3.9/site-packages/transformers/optimization.py:591: FutureWarning: This implementation of AdamW is deprecated and will be removed in a future version. Use the PyTorch implementation torch.optim.AdamW instead, or set `no_deprecation_warning=True` to disable this warning\n",
      "  warnings.warn(\n",
      "100%|██████████| 1/1 [00:01<00:00,  1.02s/it, loss=99.5]\n"
     ]
    },
    {
     "name": "stdout",
     "output_type": "stream",
     "text": [
      "Epoch 1/3 completed.\n"
     ]
    },
    {
     "name": "stderr",
     "output_type": "stream",
     "text": [
      "100%|██████████| 1/1 [00:00<00:00,  1.50it/s, loss=84.8]\n"
     ]
    },
    {
     "name": "stdout",
     "output_type": "stream",
     "text": [
      "Epoch 2/3 completed.\n"
     ]
    },
    {
     "name": "stderr",
     "output_type": "stream",
     "text": [
      "100%|██████████| 1/1 [00:00<00:00,  1.64it/s, loss=75.8]\n"
     ]
    },
    {
     "name": "stdout",
     "output_type": "stream",
     "text": [
      "Epoch 3/3 completed.\n",
      "Fine-tuning completed and model saved.\n"
     ]
    }
   ],
   "source": [
    "import torch\n",
    "from torch.utils.data import Dataset, DataLoader\n",
    "from transformers import GPT2Tokenizer, GPT2LMHeadModel, AdamW\n",
    "from tqdm import tqdm\n",
    "\n",
    "# Step 1: Load GPT-2 tokenizer and add custom log templates\n",
    "tokenizer = GPT2Tokenizer.from_pretrained(\"gpt2\")\n",
    "\n",
    "log_templates = [\n",
    "    \"Error encountered in module X\",\n",
    "    \"Error encountered in\",\n",
    "    \"Unexpected behavior in network communication\",\n",
    "    \"System rebooted successfully\",\n",
    "    \"Segmentation fault in memory allocation\"\n",
    "]\n",
    "\n",
    "# Add log templates as tokens to the tokenizer\n",
    "tokenizer.add_tokens(log_templates)\n",
    "\n",
    "# Set padding token to EOS\n",
    "tokenizer.pad_token = tokenizer.eos_token\n",
    "\n",
    "# Step 2: Prepare log sequences (you may add your actual log data here)\n",
    "sequences = [\n",
    "    \"Error encountered in module X The weather is great today. I am working hard.\",\n",
    "    \"The system rebooted successfully after the error.\"\n",
    "]\n",
    "\n",
    "# Tokenize sequences\n",
    "tokenized_sequences = tokenizer(\n",
    "    sequences,  # List of sentences\n",
    "    truncation=True,\n",
    "    padding=True,  # Padding all sequences to the same length\n",
    "    max_length=128,  # Set max length for input sequences\n",
    "    return_tensors=\"pt\"  # Return PyTorch tensors\n",
    ")\n",
    "\n",
    "# Step 3: Load pre-trained GPT-2 model\n",
    "model = GPT2LMHeadModel.from_pretrained(\"gpt2\")\n",
    "\n",
    "# Resize the model's embeddings to include the new tokens\n",
    "model.resize_token_embeddings(len(tokenizer))\n",
    "\n",
    "# Step 4: Prepare Dataset and DataLoader for training\n",
    "class LogSequenceDataset(Dataset):\n",
    "    def __init__(self, tokenized_sequences):\n",
    "        self.input_ids = tokenized_sequences['input_ids']\n",
    "        self.attention_mask = tokenized_sequences['attention_mask']\n",
    "        \n",
    "    def __len__(self):\n",
    "        return self.input_ids.shape[0]\n",
    "    \n",
    "    def __getitem__(self, idx):\n",
    "        return {\n",
    "            'input_ids': self.input_ids[idx],\n",
    "            'attention_mask': self.attention_mask[idx]\n",
    "        }\n",
    "\n",
    "# Create the dataset and dataloader\n",
    "dataset = LogSequenceDataset(tokenized_sequences)\n",
    "dataloader = DataLoader(dataset, batch_size=2, shuffle=True)\n",
    "\n",
    "# Step 5: Set up optimizer\n",
    "optimizer = AdamW(model.parameters(), lr=5e-5)\n",
    "\n",
    "# Step 6: Enable gradient updates on embeddings\n",
    "model.get_input_embeddings().requires_grad_(True)\n",
    "\n",
    "# Step 7: Train the model (Continual Pretraining)\n",
    "device = torch.device(\"cuda\" if torch.cuda.is_available() else \"cpu\")\n",
    "model.to(device)\n",
    "\n",
    "epochs = 3  # Adjust based on your training needs\n",
    "\n",
    "for epoch in range(epochs):\n",
    "    model.train()\n",
    "    loop = tqdm(dataloader, leave=True)\n",
    "    \n",
    "    for batch in loop:\n",
    "        input_ids = batch['input_ids'].to(device)\n",
    "        attention_mask = batch['attention_mask'].to(device)\n",
    "        \n",
    "        optimizer.zero_grad()\n",
    "        \n",
    "        # Forward pass (language modeling task)\n",
    "        outputs = model(input_ids, attention_mask=attention_mask, labels=input_ids)\n",
    "        loss = outputs.loss\n",
    "        \n",
    "        # Backward pass\n",
    "        loss.backward()\n",
    "        \n",
    "        # Update the model's parameters\n",
    "        optimizer.step()\n",
    "        \n",
    "        loop.set_postfix(loss=loss.item())\n",
    "\n",
    "    print(f\"Epoch {epoch + 1}/{epochs} completed.\")\n",
    "\n",
    "# Save the fine-tuned model\n",
    "model.save_pretrained(\"fine_tuned_gpt2\")\n",
    "tokenizer.save_pretrained(\"fine_tuned_gpt2\")\n",
    "\n",
    "print(\"Fine-tuning completed and model saved.\")\n"
   ]
  }
 ],
 "metadata": {
  "kernelspec": {
   "display_name": "base",
   "language": "python",
   "name": "python3"
  },
  "language_info": {
   "codemirror_mode": {
    "name": "ipython",
    "version": 3
   },
   "file_extension": ".py",
   "mimetype": "text/x-python",
   "name": "python",
   "nbconvert_exporter": "python",
   "pygments_lexer": "ipython3",
   "version": "3.9.19"
  }
 },
 "nbformat": 4,
 "nbformat_minor": 2
}
