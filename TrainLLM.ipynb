{
 "cells": [
  {
   "cell_type": "code",
   "execution_count": null,
   "metadata": {},
   "outputs": [
    {
     "data": {
      "application/vnd.jupyter.widget-view+json": {
       "model_id": "895fcdb286df417b96bdc3997460d1a0",
       "version_major": 2,
       "version_minor": 0
      },
      "text/plain": [
       "tokenizer_config.json:   0%|          | 0.00/7.30k [00:00<?, ?B/s]"
      ]
     },
     "metadata": {},
     "output_type": "display_data"
    },
    {
     "data": {
      "application/vnd.jupyter.widget-view+json": {
       "model_id": "36cbe3d38ea0445a8f4ab0553c536eb7",
       "version_major": 2,
       "version_minor": 0
      },
      "text/plain": [
       "vocab.json:   0%|          | 0.00/2.78M [00:00<?, ?B/s]"
      ]
     },
     "metadata": {},
     "output_type": "display_data"
    },
    {
     "data": {
      "application/vnd.jupyter.widget-view+json": {
       "model_id": "267a3742e24540c1a213acdf42216b59",
       "version_major": 2,
       "version_minor": 0
      },
      "text/plain": [
       "merges.txt:   0%|          | 0.00/1.67M [00:00<?, ?B/s]"
      ]
     },
     "metadata": {},
     "output_type": "display_data"
    },
    {
     "data": {
      "application/vnd.jupyter.widget-view+json": {
       "model_id": "e4a3ac22442d43e388f288264760af46",
       "version_major": 2,
       "version_minor": 0
      },
      "text/plain": [
       "tokenizer.json:   0%|          | 0.00/7.03M [00:00<?, ?B/s]"
      ]
     },
     "metadata": {},
     "output_type": "display_data"
    },
    {
     "data": {
      "application/vnd.jupyter.widget-view+json": {
       "model_id": "46da33d22ad647069796db0d7ad720bb",
       "version_major": 2,
       "version_minor": 0
      },
      "text/plain": [
       "config.json:   0%|          | 0.00/661 [00:00<?, ?B/s]"
      ]
     },
     "metadata": {},
     "output_type": "display_data"
    },
    {
     "data": {
      "application/vnd.jupyter.widget-view+json": {
       "model_id": "12f06a0649e849a68e96466784e01106",
       "version_major": 2,
       "version_minor": 0
      },
      "text/plain": [
       "model.safetensors.index.json:   0%|          | 0.00/35.6k [00:00<?, ?B/s]"
      ]
     },
     "metadata": {},
     "output_type": "display_data"
    },
    {
     "data": {
      "application/vnd.jupyter.widget-view+json": {
       "model_id": "88e4eb00dea346fa8d611e35e4aead95",
       "version_major": 2,
       "version_minor": 0
      },
      "text/plain": [
       "Downloading shards:   0%|          | 0/2 [00:00<?, ?it/s]"
      ]
     },
     "metadata": {},
     "output_type": "display_data"
    },
    {
     "data": {
      "application/vnd.jupyter.widget-view+json": {
       "model_id": "67b1f8157c694eacb7152a0f83480629",
       "version_major": 2,
       "version_minor": 0
      },
      "text/plain": [
       "model-00001-of-00002.safetensors:   0%|          | 0.00/3.97G [00:00<?, ?B/s]"
      ]
     },
     "metadata": {},
     "output_type": "display_data"
    },
    {
     "data": {
      "application/vnd.jupyter.widget-view+json": {
       "model_id": "59238e82f9db48f08eab2cdc22c4c307",
       "version_major": 2,
       "version_minor": 0
      },
      "text/plain": [
       "model-00002-of-00002.safetensors:   0%|          | 0.00/2.20G [00:00<?, ?B/s]"
      ]
     },
     "metadata": {},
     "output_type": "display_data"
    },
    {
     "data": {
      "application/vnd.jupyter.widget-view+json": {
       "model_id": "23ded685a0a84814b29f16c4d6819b5c",
       "version_major": 2,
       "version_minor": 0
      },
      "text/plain": [
       "Loading checkpoint shards:   0%|          | 0/2 [00:00<?, ?it/s]"
      ]
     },
     "metadata": {},
     "output_type": "display_data"
    },
    {
     "data": {
      "application/vnd.jupyter.widget-view+json": {
       "model_id": "3b145725f8434109af70a3687f084651",
       "version_major": 2,
       "version_minor": 0
      },
      "text/plain": [
       "generation_config.json:   0%|          | 0.00/242 [00:00<?, ?B/s]"
      ]
     },
     "metadata": {},
     "output_type": "display_data"
    },
    {
     "name": "stderr",
     "output_type": "stream",
     "text": [
      "Epoch 1/20:   0%|          | 0/326048 [00:00<?, ?it/s]"
     ]
    },
    {
     "ename": "",
     "evalue": "",
     "output_type": "error",
     "traceback": [
      "\u001b[1;31mThe Kernel crashed while executing code in the current cell or a previous cell. \n",
      "\u001b[1;31mPlease review the code in the cell(s) to identify a possible cause of the failure. \n",
      "\u001b[1;31mClick <a href='https://aka.ms/vscodeJupyterKernelCrash'>here</a> for more info. \n",
      "\u001b[1;31mView Jupyter <a href='command:jupyter.viewOutput'>log</a> for further details."
     ]
    }
   ],
   "source": [
    "import torch\n",
    "from torch.optim import AdamW\n",
    "from torch.utils.data import Dataset, DataLoader\n",
    "from transformers import AutoTokenizer, AutoModelForCausalLM\n",
    "from tqdm import tqdm\n",
    "import matplotlib.pyplot as plt\n",
    "\n",
    "log_file = \"/home/vbertalan/Downloads/gpt2_logs_mini.log\"\n",
    "\n",
    "def read_lines_from_file(filename):\n",
    "    with open(filename, \"r\", encoding=\"utf-8\") as f:\n",
    "        return [line.strip() for line in f.readlines() if line.strip()]\n",
    "\n",
    "# Qwen tokenizer e modelo\n",
    "model_name = \"Qwen/Qwen2.5-3B-Instruct\"\n",
    "tokenizer = AutoTokenizer.from_pretrained(model_name, trust_remote_code=True)\n",
    "tokenizer.pad_token = tokenizer.eos_token  # Importante para evitar erro de padding\n",
    "\n",
    "log_templates = read_lines_from_file(log_file)\n",
    "\n",
    "# Se desejar, adicionar tokens personalizados (opcional)\n",
    "tokenizer.add_tokens(log_templates)\n",
    "\n",
    "tokenized_sequences = tokenizer(\n",
    "    log_templates,\n",
    "    truncation=True,\n",
    "    padding=True,\n",
    "    max_length=2048,  # pode ajustar dependendo do modelo\n",
    "    return_tensors=\"pt\"\n",
    ")\n",
    "\n",
    "# Carrega o modelo com suporte a código remoto\n",
    "model = AutoModelForCausalLM.from_pretrained(model_name, trust_remote_code=True)\n",
    "model.resize_token_embeddings(len(tokenizer))\n",
    "\n",
    "class LogSequenceDataset(Dataset):\n",
    "    def __init__(self, tokenized_sequences):\n",
    "        self.input_ids = tokenized_sequences['input_ids']\n",
    "        self.attention_mask = tokenized_sequences['attention_mask']\n",
    "\n",
    "    def __len__(self):\n",
    "        return self.input_ids.shape[0]\n",
    "\n",
    "    def __getitem__(self, idx):\n",
    "        return {\n",
    "            'input_ids': self.input_ids[idx],\n",
    "            'attention_mask': self.attention_mask[idx]\n",
    "        }\n",
    "\n",
    "dataset = LogSequenceDataset(tokenized_sequences)\n",
    "dataloader = DataLoader(dataset, batch_size=2, shuffle=True)\n",
    "optimizer = AdamW(model.parameters(), lr=5e-5)\n",
    "\n",
    "model.get_input_embeddings().requires_grad_(True)\n",
    "\n",
    "device = torch.device(\"cuda\" if torch.cuda.is_available() else \"cpu\")\n",
    "model.to(device)\n",
    "\n",
    "max_epochs = 5\n",
    "patience = 2\n",
    "best_loss = float('inf')\n",
    "epochs_without_improvement = 0\n",
    "train_losses = []\n",
    "\n",
    "with open(\"training_log.txt\", \"w\") as log_file:\n",
    "    try:\n",
    "        for epoch in range(max_epochs):\n",
    "            model.train()\n",
    "            total_loss = 0\n",
    "            loop = tqdm(dataloader, desc=f\"Epoch {epoch + 1}/{max_epochs}\")\n",
    "\n",
    "            for batch in loop:\n",
    "                input_ids = batch['input_ids'].to(device)\n",
    "                attention_mask = batch['attention_mask'].to(device)\n",
    "\n",
    "                optimizer.zero_grad()\n",
    "\n",
    "                outputs = model(input_ids, attention_mask=attention_mask, labels=input_ids)\n",
    "                loss = outputs.loss\n",
    "                loss.backward()\n",
    "                optimizer.step()\n",
    "\n",
    "                total_loss += loss.item()\n",
    "                loop.set_postfix(loss=loss.item())\n",
    "                log_file.write(f\"Epoch {epoch + 1}, Batch Loss: {loss.item():.4f}\\n\")\n",
    "\n",
    "            average_loss = total_loss / len(dataloader)\n",
    "            train_losses.append(average_loss)\n",
    "            log_file.write(f\"Epoch {epoch + 1} - Average Loss: {average_loss:.4f}\\n\")\n",
    "\n",
    "            if average_loss < best_loss:\n",
    "                best_loss = average_loss\n",
    "                epochs_without_improvement = 0\n",
    "                model.save_pretrained(\"fine_tuned_intermediate\")\n",
    "                tokenizer.save_pretrained(\"fine_tuned_intermediate\")\n",
    "            else:\n",
    "                epochs_without_improvement += 1\n",
    "\n",
    "            if epochs_without_improvement >= patience:\n",
    "                print(\"Early stopping.\")\n",
    "                break\n",
    "\n",
    "    except Exception as e:\n",
    "        print(f\"Erro: {e}\")\n",
    "        log_file.write(f\"Erro: {e}\\n\")\n",
    "\n",
    "# Salva modelo final\n",
    "model.save_pretrained(\"fine_tuned_qwen2.5_final\")\n",
    "tokenizer.save_pretrained(\"fine_tuned_qwen2.5_final\")\n",
    "\n",
    "# Plota a curva de perda\n",
    "plt.figure(figsize=(10, 5))\n",
    "plt.plot(range(1, len(train_losses) + 1), train_losses, marker='o')\n",
    "plt.title('Training Loss Trend')\n",
    "plt.xlabel('Epochs')\n",
    "plt.ylabel('Average Loss')\n",
    "plt.grid()\n",
    "plt.savefig(\"fine_tuned_qwen2.5_final/loss_plot.png\")\n",
    "plt.close()"
   ]
  },
  {
   "cell_type": "code",
   "execution_count": 1,
   "metadata": {},
   "outputs": [
    {
     "name": "stdout",
     "output_type": "stream",
     "text": [
      "Using cpu for training\n"
     ]
    },
    {
     "name": "stderr",
     "output_type": "stream",
     "text": [
      "Epoch 1/3: 100%|██████████| 10/10 [00:06<00:00,  1.54it/s, loss=nan]\n"
     ]
    },
    {
     "name": "stdout",
     "output_type": "stream",
     "text": [
      "Epoch 1/3 completed. Average Loss: nan\n"
     ]
    },
    {
     "name": "stderr",
     "output_type": "stream",
     "text": [
      "Epoch 2/3: 100%|██████████| 10/10 [00:06<00:00,  1.65it/s, loss=nan]\n"
     ]
    },
    {
     "name": "stdout",
     "output_type": "stream",
     "text": [
      "Epoch 2/3 completed. Average Loss: nan\n",
      "Early stopping triggered. No improvement in loss.\n",
      "Fine-tuning completed and final model saved.\n"
     ]
    }
   ],
   "source": [
    "import torch\n",
    "from torch.optim import AdamW\n",
    "from torch.utils.data import Dataset, DataLoader\n",
    "from transformers import GPT2Tokenizer, GPT2LMHeadModel\n",
    "from tqdm import tqdm\n",
    "import csv\n",
    "import matplotlib.pyplot as plt\n",
    "\n",
    "# Define the path for the template file\n",
    "log_file = \"/home/vbertalan/Downloads/gpt2_logs_mini.log\"\n",
    "\n",
    "# Auxiliary function to read lines from a raw log file\n",
    "def read_lines_from_file(filename):\n",
    "    with open(filename, \"r\", encoding=\"utf-8\") as f:\n",
    "        return [line.strip() for line in f.readlines() if line.strip()]\n",
    "\n",
    "# Step 1: Load GPT-2 tokenizer and add custom log templates\n",
    "tokenizer = GPT2Tokenizer.from_pretrained(\"gpt2\")\n",
    "log_templates = read_lines_from_file(log_file)\n",
    "\n",
    "# Add log templates as tokens to the tokenizer\n",
    "tokenizer.add_tokens(log_templates)\n",
    "\n",
    "# Set padding token to EOS\n",
    "tokenizer.pad_token = tokenizer.eos_token\n",
    "\n",
    "# Step 2: Prepare log sequences directly from log templates\n",
    "sequences = log_templates  # Use log templates as sequences\n",
    "\n",
    "# Tokenize sequences\n",
    "tokenized_sequences = tokenizer(\n",
    "    sequences,\n",
    "    truncation=True,\n",
    "    padding=True,\n",
    "    max_length=1024,\n",
    "    return_tensors=\"pt\"\n",
    ")\n",
    "\n",
    "# Step 3: Load pre-trained GPT-2 model\n",
    "model = GPT2LMHeadModel.from_pretrained(\"gpt2\")\n",
    "model.resize_token_embeddings(len(tokenizer))\n",
    "\n",
    "# Step 4: Prepare Dataset and DataLoader for training\n",
    "class LogSequenceDataset(Dataset):\n",
    "    def __init__(self, tokenized_sequences):\n",
    "        self.input_ids = tokenized_sequences['input_ids']\n",
    "        self.attention_mask = tokenized_sequences['attention_mask']\n",
    "\n",
    "    def __len__(self):\n",
    "        return self.input_ids.shape[0]\n",
    "\n",
    "    def __getitem__(self, idx):\n",
    "        return {\n",
    "            'input_ids': self.input_ids[idx],\n",
    "            'attention_mask': self.attention_mask[idx]\n",
    "        }\n",
    "\n",
    "# Create the dataset and dataloader\n",
    "dataset = LogSequenceDataset(tokenized_sequences)\n",
    "dataloader = DataLoader(dataset, batch_size=2, shuffle=True)\n",
    "\n",
    "# Step 5: Set up optimizer\n",
    "optimizer = AdamW(model.parameters(), lr=5e-5)\n",
    "\n",
    "# Step 6: Enable gradient updates on embeddings\n",
    "model.get_input_embeddings().requires_grad_(True)\n",
    "\n",
    "# Step 7: Train the model (Continual Pretraining)\n",
    "device = torch.device(\"cuda\" if torch.cuda.is_available() else \"cpu\")\n",
    "model.to(device)\n",
    "print(\"Using {} for training\".format(device))\n",
    "\n",
    "max_epochs = 3  # Maximum number of epochs\n",
    "patience = 2  # Number of epochs to wait for improvement\n",
    "best_loss = float('inf')  # Initialize best loss to infinity\n",
    "epochs_without_improvement = 0  # Counter for epochs without improvement\n",
    "\n",
    "# Initialize lists to store losses\n",
    "train_losses = []\n",
    "\n",
    "# Open log file to record epoch losses\n",
    "with open(\"training_log.txt\", \"w\") as log_file:\n",
    "    try:\n",
    "        for epoch in range(max_epochs):\n",
    "            model.train()\n",
    "            total_loss = 0\n",
    "            loop = tqdm(dataloader, desc=f\"Epoch {epoch + 1}/{max_epochs}\", leave=True)\n",
    "\n",
    "            for batch in loop:\n",
    "                input_ids = batch['input_ids'].to(device)\n",
    "                attention_mask = batch['attention_mask'].to(device)\n",
    "\n",
    "                optimizer.zero_grad()\n",
    "\n",
    "                # Forward pass (language modeling task)\n",
    "                outputs = model(input_ids, attention_mask=attention_mask, labels=input_ids)\n",
    "                loss = outputs.loss\n",
    "\n",
    "                # Backward pass\n",
    "                loss.backward()\n",
    "                optimizer.step()\n",
    "\n",
    "                # Accumulate loss\n",
    "                total_loss += loss.item()\n",
    "                loop.set_postfix(loss=loss.item())\n",
    "\n",
    "                # Frequent logging after each batch\n",
    "                log_file.write(f\"Epoch {epoch + 1}, Batch Loss: {loss.item():.4f}\\n\")\n",
    "\n",
    "            # Calculate average loss for the epoch\n",
    "            average_loss = total_loss / len(dataloader)\n",
    "            train_losses.append(average_loss)\n",
    "            log_file.write(f\"Epoch {epoch + 1}/{max_epochs} - Average Loss: {average_loss:.4f}\\n\")\n",
    "            print(f\"Epoch {epoch + 1}/{max_epochs} completed. Average Loss: {average_loss:.4f}\")\n",
    "\n",
    "            # Early stopping logic\n",
    "            if average_loss < best_loss:\n",
    "                best_loss = average_loss\n",
    "                epochs_without_improvement = 0  # Reset counter\n",
    "                # Save the last intermediate model whenever there is an improvement\n",
    "                model.save_pretrained(\"fine_tuned_intermediate\")\n",
    "                tokenizer.save_pretrained(\"fine_tuned_intermediate\")\n",
    "                print(\"Intermediate model saved as 'fine_tuned_intermediate'.\")\n",
    "            else:\n",
    "                epochs_without_improvement += 1\n",
    "\n",
    "            # Stop training if no improvement for 'patience' epochs\n",
    "            if epochs_without_improvement >= patience:\n",
    "                print(\"Early stopping triggered. No improvement in loss.\")\n",
    "                break\n",
    "\n",
    "    except Exception as e:\n",
    "        print(f\"An error occurred: {e}\")\n",
    "        log_file.write(f\"Training interrupted due to an error: {e}\\n\")\n",
    "\n",
    "# Step 8: Save the final fine-tuned model\n",
    "model.save_pretrained(\"fine_tuned_gpt2_final\")\n",
    "tokenizer.save_pretrained(\"fine_tuned_gpt2_final\")\n",
    "\n",
    "print(\"Fine-tuning completed and final model saved.\")\n",
    "\n",
    "# Step 9: Plotting the loss trend\n",
    "plt.figure(figsize=(10, 5))\n",
    "plt.plot(range(1, len(train_losses) + 1), train_losses, marker='o')\n",
    "plt.title('Training Loss Trend')\n",
    "plt.xlabel('Epochs')\n",
    "plt.ylabel('Average Loss')\n",
    "plt.xticks(range(1, len(train_losses) + 1))\n",
    "plt.grid()\n",
    "\n",
    "# Save the plot as a PNG file\n",
    "plt.savefig(\"fine_tuned_gpt2_final/loss_plot.png\")\n",
    "plt.close()  # Close the plot to free memory"
   ]
  },
  {
   "cell_type": "code",
   "execution_count": 2,
   "metadata": {},
   "outputs": [
    {
     "name": "stderr",
     "output_type": "stream",
     "text": [
      "100%|██████████| 10/10 [00:06<00:00,  1.65it/s, loss=nan]\n"
     ]
    },
    {
     "name": "stdout",
     "output_type": "stream",
     "text": [
      "Epoch 1/1 completed. Average Loss: nan\n",
      "Fine-tuning completed and final model saved.\n"
     ]
    }
   ],
   "source": [
    "import torch\n",
    "from torch.optim import AdamW\n",
    "from torch.utils.data import Dataset, DataLoader\n",
    "\n",
    "import csv\n",
    "from tqdm import tqdm\n",
    "import matplotlib.pyplot as plt\n",
    "from transformers import GPT2Tokenizer, GPT2LMHeadModel\n",
    "\n",
    "template_file = \"/home/vbertalan/Downloads/gpt2_logs_mini.log_templates.csv\"\n",
    "log_file = \"/home/vbertalan/Downloads/gpt2_logs_mini.log\"\n",
    "\n",
    "# Auxiliary function to read lines from a raw log file\n",
    "def read_lines_from_file(filename):\n",
    "    with open(filename, \"r\", encoding=\"utf-8\") as f:\n",
    "        return [line.strip() for line in f.readlines() if line.strip()]\n",
    "\n",
    "# Auxiliary function to extract templates from previous CSV file\n",
    "def extract_templates(csv_file):\n",
    "    event_templates = []\n",
    "    with open(csv_file, mode='r', encoding='utf-8') as arquivo:\n",
    "        leitor = csv.DictReader(arquivo)\n",
    "        for linha in leitor:\n",
    "            if 'EventTemplate' in linha:\n",
    "                event_templates.append(linha['EventTemplate'])\n",
    "    return event_templates\n",
    "\n",
    "# Step 1: Load GPT-2 tokenizer and add custom log templates\n",
    "tokenizer = GPT2Tokenizer.from_pretrained(\"gpt2\")\n",
    "\n",
    "log_templates =  extract_templates(template_file)\n",
    "\n",
    "# Add log templates as tokens to the tokenizer\n",
    "tokenizer.add_tokens(log_templates)\n",
    "\n",
    "# Set padding token to EOS\n",
    "tokenizer.pad_token = tokenizer.eos_token\n",
    "\n",
    "# Step 2: Prepare log sequences (you may add your actual log data here)\n",
    "sequences = read_lines_from_file(log_file)\n",
    "\n",
    "# Tokenize sequences\n",
    "tokenized_sequences = tokenizer(\n",
    "    sequences,\n",
    "    truncation=True,\n",
    "    padding=True,\n",
    "    max_length=1024,\n",
    "    return_tensors=\"pt\"\n",
    ")\n",
    "\n",
    "# Step 3: Load pre-trained GPT-2 model\n",
    "model = GPT2LMHeadModel.from_pretrained(\"gpt2\")\n",
    "model.resize_token_embeddings(len(tokenizer))\n",
    "\n",
    "# Step 4: Prepare Dataset and DataLoader for training\n",
    "class LogSequenceDataset(Dataset):\n",
    "    def __init__(self, tokenized_sequences):\n",
    "        self.input_ids = tokenized_sequences['input_ids']\n",
    "        self.attention_mask = tokenized_sequences['attention_mask']\n",
    "\n",
    "    def __len__(self):\n",
    "        return self.input_ids.shape[0]\n",
    "\n",
    "    def __getitem__(self, idx):\n",
    "        return {\n",
    "            'input_ids': self.input_ids[idx],\n",
    "            'attention_mask': self.attention_mask[idx]\n",
    "        }\n",
    "\n",
    "# Create the dataset and dataloader\n",
    "dataset = LogSequenceDataset(tokenized_sequences)\n",
    "dataloader = DataLoader(dataset, batch_size=2, shuffle=True)\n",
    "\n",
    "# Step 5: Set up optimizer\n",
    "optimizer = AdamW(model.parameters(), lr=5e-5)\n",
    "\n",
    "# Step 6: Enable gradient updates on embeddings\n",
    "model.get_input_embeddings().requires_grad_(True)\n",
    "\n",
    "# Step 7: Train the model (Continual Pretraining)\n",
    "device = torch.device(\"cuda\" if torch.cuda.is_available() else \"cpu\")\n",
    "model.to(device)\n",
    "\n",
    "max_epochs = 1  # Maximum number of epochs\n",
    "patience = 3  # Number of epochs to wait for improvement\n",
    "best_loss = float('inf')  # Initialize best loss to infinity\n",
    "epochs_without_improvement = 0  # Counter for epochs without improvement\n",
    "\n",
    "# Initialize lists to store losses\n",
    "train_losses = []\n",
    "\n",
    "# Open log file to record epoch losses\n",
    "with open(\"training_log.txt\", \"w\") as log_file:\n",
    "    for epoch in range(max_epochs):\n",
    "        model.train()\n",
    "        total_loss = 0\n",
    "        loop = tqdm(dataloader, leave=True)\n",
    "\n",
    "        for batch in loop:\n",
    "            input_ids = batch['input_ids'].to(device)\n",
    "            attention_mask = batch['attention_mask'].to(device)\n",
    "\n",
    "            optimizer.zero_grad()\n",
    "\n",
    "            # Forward pass (language modeling task)\n",
    "            outputs = model(input_ids, attention_mask=attention_mask, labels=input_ids)\n",
    "            loss = outputs.loss\n",
    "\n",
    "            # Backward pass\n",
    "            loss.backward()\n",
    "            optimizer.step()\n",
    "\n",
    "            # Accumulate loss\n",
    "            total_loss += loss.item()\n",
    "            loop.set_postfix(loss=loss.item())\n",
    "\n",
    "        # Calculate average loss for the epoch\n",
    "        average_loss = total_loss / len(dataloader)\n",
    "        train_losses.append(average_loss)\n",
    "        log_file.write(f\"Epoch {epoch + 1}/{max_epochs} - Average Loss: {average_loss:.4f}\\n\")\n",
    "        print(f\"Epoch {epoch + 1}/{max_epochs} completed. Average Loss: {average_loss:.4f}\")\n",
    "\n",
    "        # Early stopping logic\n",
    "        if average_loss < best_loss:\n",
    "            best_loss = average_loss\n",
    "            epochs_without_improvement = 0  # Reset counter\n",
    "            # Save the intermediate model whenever there is an improvement\n",
    "            model.save_pretrained(\"fine_tuned_intermediate\")\n",
    "            tokenizer.save_pretrained(\"fine_tuned_intermediate\")\n",
    "            print(\"Intermediate model saved as 'fine_tuned_intermediate'.\")\n",
    "        else:\n",
    "            epochs_without_improvement += 1\n",
    "\n",
    "        # Stop training if no improvement for 'patience' epochs\n",
    "        if epochs_without_improvement >= patience:\n",
    "            print(\"Early stopping triggered. No improvement in loss.\")\n",
    "            break\n",
    "\n",
    "# Step 8: Save the final fine-tuned model\n",
    "model.save_pretrained(\"fine_tuned_gpt2_final\")\n",
    "tokenizer.save_pretrained(\"fine_tuned_gpt2_final\")\n",
    "\n",
    "print(\"Fine-tuning completed and final model saved.\")\n",
    "\n",
    "# Step 9: Plotting the loss trend\n",
    "plt.figure(figsize=(10, 5))\n",
    "plt.plot(range(1, len(train_losses) + 1), train_losses, marker='o')\n",
    "plt.title('Training Loss Trend')\n",
    "plt.xlabel('Epochs')\n",
    "plt.ylabel('Average Loss')\n",
    "plt.xticks(range(1, len(train_losses) + 1))\n",
    "plt.grid()\n",
    "\n",
    "# Save the plot as a PNG file\n",
    "plt.savefig(\"fine_tuned_gpt2_final/loss_plot.png\")\n",
    "plt.close()  # Close the plot to free memory\n"
   ]
  },
  {
   "cell_type": "code",
   "execution_count": 3,
   "metadata": {},
   "outputs": [
    {
     "name": "stderr",
     "output_type": "stream",
     "text": [
      "100%|██████████| 10/10 [00:06<00:00,  1.65it/s, loss=nan]\n"
     ]
    },
    {
     "name": "stdout",
     "output_type": "stream",
     "text": [
      "Epoch 1/3 completed.\n"
     ]
    },
    {
     "name": "stderr",
     "output_type": "stream",
     "text": [
      "100%|██████████| 10/10 [00:05<00:00,  1.73it/s, loss=nan]\n"
     ]
    },
    {
     "name": "stdout",
     "output_type": "stream",
     "text": [
      "Epoch 2/3 completed.\n"
     ]
    },
    {
     "name": "stderr",
     "output_type": "stream",
     "text": [
      "100%|██████████| 10/10 [00:05<00:00,  1.73it/s, loss=nan]\n"
     ]
    },
    {
     "name": "stdout",
     "output_type": "stream",
     "text": [
      "Epoch 3/3 completed.\n",
      "Fine-tuning completed and model saved.\n"
     ]
    }
   ],
   "source": [
    "import csv\n",
    "import torch\n",
    "from tqdm import tqdm\n",
    "from torch.optim import AdamW\n",
    "from torch.utils.data import Dataset, DataLoader\n",
    "from transformers import GPT2Tokenizer, GPT2LMHeadModel\n",
    "\n",
    "template_file = \"/home/vbertalan/Downloads/gpt2_logs_mini.log_templates.csv\"\n",
    "log_file = \"/home/vbertalan/Downloads/gpt2_logs_mini.log\"\n",
    "\n",
    "# Auxiliary function to read lines from a raw log file\n",
    "def read_lines_from_file(filename):\n",
    "    with open(filename, \"r\", encoding=\"utf-8\") as f:\n",
    "        return [line.strip() for line in f.readlines() if line.strip()]\n",
    "\n",
    "# Auxiliary function to extract templates from previous CSV file\n",
    "def extract_templates(csv_file):\n",
    "    event_templates = []\n",
    "    with open(csv_file, mode='r', encoding='utf-8') as arquivo:\n",
    "        leitor = csv.DictReader(arquivo)\n",
    "        for linha in leitor:\n",
    "            if 'EventTemplate' in linha:\n",
    "                event_templates.append(linha['EventTemplate'])\n",
    "    return event_templates\n",
    "\n",
    "\n",
    "# Step 1: Load GPT-2 tokenizer and add custom log templates\n",
    "tokenizer = GPT2Tokenizer.from_pretrained(\"gpt2\")\n",
    "log_templates =  extract_templates(template_file)\n",
    "\n",
    "# Add log templates as tokens to the tokenizer\n",
    "tokenizer.add_tokens(log_templates)\n",
    "\n",
    "# Set padding token to EOS\n",
    "tokenizer.pad_token = tokenizer.eos_token\n",
    "\n",
    "# Step 2: Prepare log sequences (you may add your actual log data here)\n",
    "sequences = read_lines_from_file(log_file)\n",
    "\n",
    "# Tokenize sequences\n",
    "tokenized_sequences = tokenizer(\n",
    "    sequences,  # List of sentences\n",
    "    truncation=True,\n",
    "    padding=True,  # Padding all sequences to the same length\n",
    "    max_length=128,  # Set max length for input sequences\n",
    "    return_tensors=\"pt\"  # Return PyTorch tensors\n",
    ")\n",
    "\n",
    "# Step 3: Load pre-trained GPT-2 model\n",
    "model = GPT2LMHeadModel.from_pretrained(\"gpt2\")\n",
    "\n",
    "# Resize the model's embeddings to include the new tokens\n",
    "model.resize_token_embeddings(len(tokenizer))\n",
    "\n",
    "# Step 4: Prepare Dataset and DataLoader for training\n",
    "class LogSequenceDataset(Dataset):\n",
    "    def __init__(self, tokenized_sequences):\n",
    "        self.input_ids = tokenized_sequences['input_ids']\n",
    "        self.attention_mask = tokenized_sequences['attention_mask']\n",
    "        \n",
    "    def __len__(self):\n",
    "        return self.input_ids.shape[0]\n",
    "    \n",
    "    def __getitem__(self, idx):\n",
    "        return {\n",
    "            'input_ids': self.input_ids[idx],\n",
    "            'attention_mask': self.attention_mask[idx]\n",
    "        }\n",
    "\n",
    "# Create the dataset and dataloader\n",
    "dataset = LogSequenceDataset(tokenized_sequences)\n",
    "dataloader = DataLoader(dataset, batch_size=2, shuffle=True)\n",
    "\n",
    "# Step 5: Set up optimizer\n",
    "optimizer = AdamW(model.parameters(), lr=5e-5)\n",
    "\n",
    "# Step 6: Enable gradient updates on embeddings\n",
    "model.get_input_embeddings().requires_grad_(True)\n",
    "\n",
    "# Step 7: Train the model (Continual Pretraining)\n",
    "device = torch.device(\"cuda\" if torch.cuda.is_available() else \"cpu\")\n",
    "model.to(device)\n",
    "\n",
    "epochs = 3  # Adjust based on your training needs\n",
    "\n",
    "for epoch in range(epochs):\n",
    "    model.train()\n",
    "    loop = tqdm(dataloader, leave=True)\n",
    "    \n",
    "    for batch in loop:\n",
    "        input_ids = batch['input_ids'].to(device)\n",
    "        attention_mask = batch['attention_mask'].to(device)\n",
    "        \n",
    "        optimizer.zero_grad()\n",
    "        \n",
    "        # Forward pass (language modeling task)\n",
    "        outputs = model(input_ids, attention_mask=attention_mask, labels=input_ids)\n",
    "        loss = outputs.loss\n",
    "        \n",
    "        # Backward pass\n",
    "        loss.backward()\n",
    "        \n",
    "        # Update the model's parameters\n",
    "        optimizer.step()\n",
    "        \n",
    "        loop.set_postfix(loss=loss.item())\n",
    "\n",
    "    print(f\"Epoch {epoch + 1}/{epochs} completed.\")\n",
    "\n",
    "# Save the fine-tuned model\n",
    "model.save_pretrained(\"fine_tuned_gpt2\")\n",
    "tokenizer.save_pretrained(\"fine_tuned_gpt2\")\n",
    "\n",
    "print(\"Fine-tuning completed and model saved.\")\n"
   ]
  },
  {
   "cell_type": "code",
   "execution_count": null,
   "metadata": {},
   "outputs": [
    {
     "data": {
      "application/vnd.jupyter.widget-view+json": {
       "model_id": "61c611e882a24c3e902bca7203848894",
       "version_major": 2,
       "version_minor": 0
      },
      "text/plain": [
       "tokenizer_config.json:   0%|          | 0.00/200 [00:00<?, ?B/s]"
      ]
     },
     "metadata": {},
     "output_type": "display_data"
    },
    {
     "data": {
      "application/vnd.jupyter.widget-view+json": {
       "model_id": "0cf142b04093401f950970475ca4894d",
       "version_major": 2,
       "version_minor": 0
      },
      "text/plain": [
       "config.json:   0%|          | 0.00/1.46k [00:00<?, ?B/s]"
      ]
     },
     "metadata": {},
     "output_type": "display_data"
    },
    {
     "data": {
      "application/vnd.jupyter.widget-view+json": {
       "model_id": "4bb9b063a04a4b0395b2556a79aaaf1f",
       "version_major": 2,
       "version_minor": 0
      },
      "text/plain": [
       "vocab.json:   0%|          | 0.00/798k [00:00<?, ?B/s]"
      ]
     },
     "metadata": {},
     "output_type": "display_data"
    },
    {
     "data": {
      "application/vnd.jupyter.widget-view+json": {
       "model_id": "fd96a6df8419494db0bc405413e07798",
       "version_major": 2,
       "version_minor": 0
      },
      "text/plain": [
       "merges.txt:   0%|          | 0.00/456k [00:00<?, ?B/s]"
      ]
     },
     "metadata": {},
     "output_type": "display_data"
    },
    {
     "data": {
      "application/vnd.jupyter.widget-view+json": {
       "model_id": "eb647c6e5b2646b99159d9337499b2c8",
       "version_major": 2,
       "version_minor": 0
      },
      "text/plain": [
       "special_tokens_map.json:   0%|          | 0.00/90.0 [00:00<?, ?B/s]"
      ]
     },
     "metadata": {},
     "output_type": "display_data"
    },
    {
     "data": {
      "application/vnd.jupyter.widget-view+json": {
       "model_id": "6a7aa435681e4720bb49bed8ce8bc3c0",
       "version_major": 2,
       "version_minor": 0
      },
      "text/plain": [
       "model.safetensors:   0%|          | 0.00/10.7G [00:00<?, ?B/s]"
      ]
     },
     "metadata": {},
     "output_type": "display_data"
    },
    {
     "name": "stderr",
     "output_type": "stream",
     "text": [
      "  0%|          | 0/1 [00:00<?, ?it/s]"
     ]
    },
    {
     "ename": "",
     "evalue": "",
     "output_type": "error",
     "traceback": [
      "\u001b[1;31mThe Kernel crashed while executing code in the current cell or a previous cell. \n",
      "\u001b[1;31mPlease review the code in the cell(s) to identify a possible cause of the failure. \n",
      "\u001b[1;31mClick <a href='https://aka.ms/vscodeJupyterKernelCrash'>here</a> for more info. \n",
      "\u001b[1;31mView Jupyter <a href='command:jupyter.viewOutput'>log</a> for further details."
     ]
    }
   ],
   "source": [
    "import torch\n",
    "from tqdm import tqdm\n",
    "from torch.optim import AdamW\n",
    "from torch.utils.data import Dataset, DataLoader\n",
    "from transformers import AutoTokenizer, AutoModelForCausalLM\n",
    "from huggingface_hub import login\n",
    "\n",
    "# === Step 0: Login on Hugging Face (coloque seu token aqui se necessário) ===\n",
    "# Step 0: Code for reading HuggingFace token\n",
    "def get_huggingface_token():\n",
    "    f = open(\"huggingface_token.txt\", \"r\")\n",
    "    return (f.read())\n",
    "\n",
    "login(token=get_huggingface_token())  # Descomente se preferir login via código\n",
    "\n",
    "# === Step 1: Define LLaMA 2 model ===\n",
    "model_name = \"meta-llama/Llama-2-7b-hf\"\n",
    "tokenizer = AutoTokenizer.from_pretrained(model_name, use_auth_token=True)\n",
    "tokenizer.pad_token = tokenizer.eos_token\n",
    "\n",
    "# === Step 2: Add custom tokens ===\n",
    "log_templates = [\n",
    "    \"Error encountered in module X\",\n",
    "    \"Error encountered in\",\n",
    "    \"Unexpected behavior in network communication\",\n",
    "    \"System rebooted successfully\",\n",
    "    \"Segmentation fault in memory allocation\"\n",
    "]\n",
    "tokenizer.add_tokens(log_templates)\n",
    "\n",
    "# === Step 3: Prepare sequences ===\n",
    "sequences = [\n",
    "    \"Error encountered in module X The weather is great today. I am working hard.\",\n",
    "    \"The system rebooted successfully after the error.\"\n",
    "]\n",
    "\n",
    "tokenized_sequences = tokenizer(\n",
    "    sequences,\n",
    "    truncation=True,\n",
    "    padding=True,\n",
    "    max_length=128,\n",
    "    return_tensors=\"pt\"\n",
    ")\n",
    "\n",
    "# === Step 4: Load LLaMA 2 model ===\n",
    "model = AutoModelForCausalLM.from_pretrained(\n",
    "    model_name,\n",
    "    use_auth_token=True,\n",
    "    torch_dtype=torch.float16,\n",
    "    device_map=\"auto\"\n",
    ")\n",
    "\n",
    "# === Step 5: Resize embeddings to include new tokens ===\n",
    "model.resize_token_embeddings(len(tokenizer))\n",
    "\n",
    "# === Step 6: Prepare Dataset & Dataloader ===\n",
    "class LogSequenceDataset(Dataset):\n",
    "    def __init__(self, tokenized_sequences):\n",
    "        self.input_ids = tokenized_sequences['input_ids']\n",
    "        self.attention_mask = tokenized_sequences['attention_mask']\n",
    "        \n",
    "    def __len__(self):\n",
    "        return self.input_ids.shape[0]\n",
    "    \n",
    "    def __getitem__(self, idx):\n",
    "        return {\n",
    "            'input_ids': self.input_ids[idx],\n",
    "            'attention_mask': self.attention_mask[idx]\n",
    "        }\n",
    "\n",
    "dataset = LogSequenceDataset(tokenized_sequences)\n",
    "dataloader = DataLoader(dataset, batch_size=2, shuffle=True)\n",
    "\n",
    "# === Step 7: Optimizer ===\n",
    "optimizer = AdamW(model.parameters(), lr=5e-5)\n",
    "\n",
    "# === Step 8: Train the model ===\n",
    "device = torch.device(\"cuda\" if torch.cuda.is_available() else \"cpu\")\n",
    "\n",
    "epochs = 3\n",
    "for epoch in range(epochs):\n",
    "    model.train()\n",
    "    loop = tqdm(dataloader, desc=f\"Epoch {epoch+1}/{epochs}\", leave=True)\n",
    "    \n",
    "    for batch in loop:\n",
    "        input_ids = batch['input_ids'].to(device)\n",
    "        attention_mask = batch['attention_mask'].to(device)\n",
    "\n",
    "        optimizer.zero_grad()\n",
    "\n",
    "        outputs = model(input_ids, attention_mask=attention_mask, labels=input_ids)\n",
    "        loss = outputs.loss\n",
    "        loss.backward()\n",
    "        optimizer.step()\n",
    "\n",
    "        loop.set_postfix(loss=loss.item())\n",
    "\n",
    "# === Step 9: Save fine-tuned model ===\n",
    "model.save_pretrained(\"fine_tuned_llama2\")\n",
    "tokenizer.save_pretrained(\"fine_tuned_llama2\")\n",
    "print(\"✅ Fine-tuning completed and model saved.\")\n"
   ]
  },
  {
   "cell_type": "code",
   "execution_count": null,
   "metadata": {},
   "outputs": [
    {
     "name": "stderr",
     "output_type": "stream",
     "text": [
      "/home/vbertalan/anaconda3/lib/python3.9/site-packages/torch/amp/grad_scaler.py:131: UserWarning: torch.cuda.amp.GradScaler is enabled, but CUDA is not available.  Disabling.\n",
      "  warnings.warn(\n",
      "Epoch 1/3:   0%|          | 0/1 [00:00<?, ?it/s]/home/vbertalan/anaconda3/lib/python3.9/site-packages/torch/amp/autocast_mode.py:250: UserWarning: User provided device_type of 'cuda', but CUDA is not available. Disabling\n",
      "  warnings.warn(\n",
      "Epoch 1/3: 100%|██████████| 1/1 [00:00<00:00,  1.15it/s, loss=105]\n",
      "Epoch 2/3: 100%|██████████| 1/1 [00:00<00:00,  1.36it/s, loss=77]\n",
      "Epoch 3/3: 100%|██████████| 1/1 [00:00<00:00,  1.69it/s, loss=61.3]\n"
     ]
    },
    {
     "name": "stdout",
     "output_type": "stream",
     "text": [
      "Fine-tuning completed and model saved.\n"
     ]
    }
   ],
   "source": [
    "import torch\n",
    "from torch.optim import AdamW\n",
    "from torch.utils.data import Dataset, DataLoader\n",
    "from transformers import GPT2Tokenizer, GPT2LMHeadModel\n",
    "from tqdm import tqdm\n",
    "\n",
    "template_file = \"\"\n",
    "log_file = \"gpt2_logs.log\"\n",
    "\n",
    "# Função auxiliar para ler linhas de um arquivo como lista\n",
    "def read_lines_from_file(filename):\n",
    "    with open(filename, \"r\", encoding=\"utf-8\") as f:\n",
    "        return [line.strip() for line in f.readlines() if line.strip()]\n",
    "\n",
    "# Step 1: Load GPT-2 tokenizer and add custom log templates\n",
    "tokenizer = GPT2Tokenizer.from_pretrained(\"llama2-7b\")\n",
    "\n",
    "# Carregar log templates de arquivo externo\n",
    "log_templates = read_lines_from_file(template_file)\n",
    "\n",
    "# Adicionar os log templates como novos tokens no tokenizer\n",
    "tokenizer.add_tokens(log_templates)\n",
    "\n",
    "# Definir token de padding\n",
    "tokenizer.pad_token = tokenizer.eos_token\n",
    "\n",
    "# Step 2: Carregar sequências de log de arquivo externo\n",
    "sequences = read_lines_from_file(log_file)\n",
    "\n",
    "# Tokenizar as sequências\n",
    "tokenized_sequences = tokenizer(\n",
    "    sequences,\n",
    "    truncation=True,\n",
    "    padding=True,\n",
    "    max_length=128,\n",
    "    return_tensors=\"pt\"\n",
    ")\n",
    "\n",
    "# Step 3: Load pre-trained GPT-2 model\n",
    "model = GPT2LMHeadModel.from_pretrained(\"gpt2\")\n",
    "model.resize_token_embeddings(len(tokenizer))\n",
    "\n",
    "# Step 4: Dataset e DataLoader\n",
    "class LogSequenceDataset(Dataset):\n",
    "    def __init__(self, tokenized_sequences):\n",
    "        self.input_ids = tokenized_sequences['input_ids']\n",
    "        self.attention_mask = tokenized_sequences['attention_mask']\n",
    "        \n",
    "    def __len__(self):\n",
    "        return self.input_ids.shape[0]\n",
    "    \n",
    "    def __getitem__(self, idx):\n",
    "        return {\n",
    "            'input_ids': self.input_ids[idx],\n",
    "            'attention_mask': self.attention_mask[idx]\n",
    "        }\n",
    "\n",
    "dataset = LogSequenceDataset(tokenized_sequences)\n",
    "dataloader = DataLoader(dataset, batch_size=2, shuffle=True)\n",
    "\n",
    "# Step 5: Optimizer\n",
    "optimizer = AdamW(model.parameters(), lr=5e-5)\n",
    "\n",
    "# Step 6: Enable embedding updates\n",
    "model.get_input_embeddings().requires_grad_(True)\n",
    "\n",
    "# Step 7: Training\n",
    "device = torch.device(\"cuda\" if torch.cuda.is_available() else \"cpu\")\n",
    "model.to(device)\n",
    "\n",
    "epochs = 3\n",
    "\n",
    "for epoch in range(epochs):\n",
    "    model.train()\n",
    "    loop = tqdm(dataloader, leave=True)\n",
    "    \n",
    "    for batch in loop:\n",
    "        input_ids = batch['input_ids'].to(device)\n",
    "        attention_mask = batch['attention_mask'].to(device)\n",
    "        \n",
    "        optimizer.zero_grad()\n",
    "        outputs = model(input_ids, attention_mask=attention_mask, labels=input_ids)\n",
    "        loss = outputs.loss\n",
    "        loss.backward()\n",
    "        optimizer.step()\n",
    "        \n",
    "        loop.set_postfix(loss=loss.item())\n",
    "\n",
    "    print(f\"Epoch {epoch + 1}/{epochs} completed.\")\n",
    "\n",
    "# Salvar modelo e tokenizer\n",
    "model.save_pretrained(\"fine_tuned_gpt2\")\n",
    "tokenizer.save_pretrained(\"fine_tuned_gpt2\")\n",
    "\n",
    "print(\"Fine-tuning completed and model saved.\")"
   ]
  },
  {
   "cell_type": "code",
   "execution_count": 11,
   "metadata": {},
   "outputs": [
    {
     "name": "stderr",
     "output_type": "stream",
     "text": [
      "Token indices sequence length is longer than the specified maximum sequence length for this model (1026 > 1024). Running this sequence through the model will result in indexing errors\n"
     ]
    },
    {
     "name": "stdout",
     "output_type": "stream",
     "text": [
      "Total de logs: 652096\n",
      "Comprimento médio: 156.45 tokens\n",
      "Comprimento máximo: 1831 tokens\n"
     ]
    }
   ],
   "source": [
    "from transformers import GPT2Tokenizer\n",
    "\n",
    "# === CONFIGURAÇÃO ===\n",
    "LOG_FILE_PATH = \"/home/vbertalan/Downloads/gpt2_logs.log\"  # Caminho para seu arquivo .log\n",
    "\n",
    "# === Lê o arquivo de logs ===\n",
    "with open(LOG_FILE_PATH, \"r\", encoding=\"utf-8\") as f:\n",
    "    log_lines = [line.strip() for line in f if line.strip()]\n",
    "\n",
    "# === Inicializa o tokenizer GPT-2 ===\n",
    "tokenizer = GPT2Tokenizer.from_pretrained(\"gpt2\")\n",
    "tokenizer.pad_token = tokenizer.eos_token\n",
    "\n",
    "# === Calcula os comprimentos em tokens ===\n",
    "token_lens = [len(tokenizer(log)[\"input_ids\"]) for log in log_lines]\n",
    "\n",
    "# === Exibe estatísticas ===\n",
    "print(f\"Total de logs: {len(token_lens)}\")\n",
    "print(f\"Comprimento médio: {sum(token_lens)/len(token_lens):.2f} tokens\")\n",
    "print(f\"Comprimento máximo: {max(token_lens)} tokens\")\n"
   ]
  }
 ],
 "metadata": {
  "kernelspec": {
   "display_name": "base",
   "language": "python",
   "name": "python3"
  },
  "language_info": {
   "codemirror_mode": {
    "name": "ipython",
    "version": 3
   },
   "file_extension": ".py",
   "mimetype": "text/x-python",
   "name": "python",
   "nbconvert_exporter": "python",
   "pygments_lexer": "ipython3",
   "version": "3.9.19"
  }
 },
 "nbformat": 4,
 "nbformat_minor": 2
}
