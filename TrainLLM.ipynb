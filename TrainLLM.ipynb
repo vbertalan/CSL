{
 "cells": [
  {
   "cell_type": "code",
   "execution_count": 3,
   "metadata": {},
   "outputs": [
    {
     "name": "stderr",
     "output_type": "stream",
     "text": [
      "100%|██████████| 10/10 [00:06<00:00,  1.65it/s, loss=nan]\n"
     ]
    },
    {
     "name": "stdout",
     "output_type": "stream",
     "text": [
      "Epoch 1/3 completed.\n"
     ]
    },
    {
     "name": "stderr",
     "output_type": "stream",
     "text": [
      "100%|██████████| 10/10 [00:05<00:00,  1.73it/s, loss=nan]\n"
     ]
    },
    {
     "name": "stdout",
     "output_type": "stream",
     "text": [
      "Epoch 2/3 completed.\n"
     ]
    },
    {
     "name": "stderr",
     "output_type": "stream",
     "text": [
      "100%|██████████| 10/10 [00:05<00:00,  1.73it/s, loss=nan]\n"
     ]
    },
    {
     "name": "stdout",
     "output_type": "stream",
     "text": [
      "Epoch 3/3 completed.\n",
      "Fine-tuning completed and model saved.\n"
     ]
    }
   ],
   "source": [
    "import csv\n",
    "import torch\n",
    "from tqdm import tqdm\n",
    "from torch.optim import AdamW\n",
    "from torch.utils.data import Dataset, DataLoader\n",
    "from transformers import GPT2Tokenizer, GPT2LMHeadModel\n",
    "\n",
    "template_file = \"/home/vbertalan/Downloads/gpt2_logs_mini.log_templates.csv\"\n",
    "log_file = \"/home/vbertalan/Downloads/gpt2_logs_mini.log\"\n",
    "\n",
    "# Auxiliary function to read lines from a raw log file\n",
    "def read_lines_from_file(filename):\n",
    "    with open(filename, \"r\", encoding=\"utf-8\") as f:\n",
    "        return [line.strip() for line in f.readlines() if line.strip()]\n",
    "\n",
    "# Auxiliary function to extract templates from previous CSV file\n",
    "def extract_templates(csv_file):\n",
    "    event_templates = []\n",
    "    with open(csv_file, mode='r', encoding='utf-8') as arquivo:\n",
    "        leitor = csv.DictReader(arquivo)\n",
    "        for linha in leitor:\n",
    "            if 'EventTemplate' in linha:\n",
    "                event_templates.append(linha['EventTemplate'])\n",
    "    return event_templates\n",
    "\n",
    "\n",
    "# Step 1: Load GPT-2 tokenizer and add custom log templates\n",
    "tokenizer = GPT2Tokenizer.from_pretrained(\"gpt2\")\n",
    "log_templates =  extract_templates(template_file)\n",
    "\n",
    "# Add log templates as tokens to the tokenizer\n",
    "tokenizer.add_tokens(log_templates)\n",
    "\n",
    "# Set padding token to EOS\n",
    "tokenizer.pad_token = tokenizer.eos_token\n",
    "\n",
    "# Step 2: Prepare log sequences (you may add your actual log data here)\n",
    "sequences = read_lines_from_file(log_file)\n",
    "\n",
    "# Tokenize sequences\n",
    "tokenized_sequences = tokenizer(\n",
    "    sequences,  # List of sentences\n",
    "    truncation=True,\n",
    "    padding=True,  # Padding all sequences to the same length\n",
    "    max_length=128,  # Set max length for input sequences\n",
    "    return_tensors=\"pt\"  # Return PyTorch tensors\n",
    ")\n",
    "\n",
    "# Step 3: Load pre-trained GPT-2 model\n",
    "model = GPT2LMHeadModel.from_pretrained(\"gpt2\")\n",
    "\n",
    "# Resize the model's embeddings to include the new tokens\n",
    "model.resize_token_embeddings(len(tokenizer))\n",
    "\n",
    "# Step 4: Prepare Dataset and DataLoader for training\n",
    "class LogSequenceDataset(Dataset):\n",
    "    def __init__(self, tokenized_sequences):\n",
    "        self.input_ids = tokenized_sequences['input_ids']\n",
    "        self.attention_mask = tokenized_sequences['attention_mask']\n",
    "        \n",
    "    def __len__(self):\n",
    "        return self.input_ids.shape[0]\n",
    "    \n",
    "    def __getitem__(self, idx):\n",
    "        return {\n",
    "            'input_ids': self.input_ids[idx],\n",
    "            'attention_mask': self.attention_mask[idx]\n",
    "        }\n",
    "\n",
    "# Create the dataset and dataloader\n",
    "dataset = LogSequenceDataset(tokenized_sequences)\n",
    "dataloader = DataLoader(dataset, batch_size=2, shuffle=True)\n",
    "\n",
    "# Step 5: Set up optimizer\n",
    "optimizer = AdamW(model.parameters(), lr=5e-5)\n",
    "\n",
    "# Step 6: Enable gradient updates on embeddings\n",
    "model.get_input_embeddings().requires_grad_(True)\n",
    "\n",
    "# Step 7: Train the model (Continual Pretraining)\n",
    "device = torch.device(\"cuda\" if torch.cuda.is_available() else \"cpu\")\n",
    "model.to(device)\n",
    "\n",
    "epochs = 3  # Adjust based on your training needs\n",
    "\n",
    "for epoch in range(epochs):\n",
    "    model.train()\n",
    "    loop = tqdm(dataloader, leave=True)\n",
    "    \n",
    "    for batch in loop:\n",
    "        input_ids = batch['input_ids'].to(device)\n",
    "        attention_mask = batch['attention_mask'].to(device)\n",
    "        \n",
    "        optimizer.zero_grad()\n",
    "        \n",
    "        # Forward pass (language modeling task)\n",
    "        outputs = model(input_ids, attention_mask=attention_mask, labels=input_ids)\n",
    "        loss = outputs.loss\n",
    "        \n",
    "        # Backward pass\n",
    "        loss.backward()\n",
    "        \n",
    "        # Update the model's parameters\n",
    "        optimizer.step()\n",
    "        \n",
    "        loop.set_postfix(loss=loss.item())\n",
    "\n",
    "    print(f\"Epoch {epoch + 1}/{epochs} completed.\")\n",
    "\n",
    "# Save the fine-tuned model\n",
    "model.save_pretrained(\"fine_tuned_gpt2\")\n",
    "tokenizer.save_pretrained(\"fine_tuned_gpt2\")\n",
    "\n",
    "print(\"Fine-tuning completed and model saved.\")\n"
   ]
  },
  {
   "cell_type": "code",
   "execution_count": null,
   "metadata": {},
   "outputs": [
    {
     "data": {
      "application/vnd.jupyter.widget-view+json": {
       "model_id": "61c611e882a24c3e902bca7203848894",
       "version_major": 2,
       "version_minor": 0
      },
      "text/plain": [
       "tokenizer_config.json:   0%|          | 0.00/200 [00:00<?, ?B/s]"
      ]
     },
     "metadata": {},
     "output_type": "display_data"
    },
    {
     "data": {
      "application/vnd.jupyter.widget-view+json": {
       "model_id": "0cf142b04093401f950970475ca4894d",
       "version_major": 2,
       "version_minor": 0
      },
      "text/plain": [
       "config.json:   0%|          | 0.00/1.46k [00:00<?, ?B/s]"
      ]
     },
     "metadata": {},
     "output_type": "display_data"
    },
    {
     "data": {
      "application/vnd.jupyter.widget-view+json": {
       "model_id": "4bb9b063a04a4b0395b2556a79aaaf1f",
       "version_major": 2,
       "version_minor": 0
      },
      "text/plain": [
       "vocab.json:   0%|          | 0.00/798k [00:00<?, ?B/s]"
      ]
     },
     "metadata": {},
     "output_type": "display_data"
    },
    {
     "data": {
      "application/vnd.jupyter.widget-view+json": {
       "model_id": "fd96a6df8419494db0bc405413e07798",
       "version_major": 2,
       "version_minor": 0
      },
      "text/plain": [
       "merges.txt:   0%|          | 0.00/456k [00:00<?, ?B/s]"
      ]
     },
     "metadata": {},
     "output_type": "display_data"
    },
    {
     "data": {
      "application/vnd.jupyter.widget-view+json": {
       "model_id": "eb647c6e5b2646b99159d9337499b2c8",
       "version_major": 2,
       "version_minor": 0
      },
      "text/plain": [
       "special_tokens_map.json:   0%|          | 0.00/90.0 [00:00<?, ?B/s]"
      ]
     },
     "metadata": {},
     "output_type": "display_data"
    },
    {
     "data": {
      "application/vnd.jupyter.widget-view+json": {
       "model_id": "6a7aa435681e4720bb49bed8ce8bc3c0",
       "version_major": 2,
       "version_minor": 0
      },
      "text/plain": [
       "model.safetensors:   0%|          | 0.00/10.7G [00:00<?, ?B/s]"
      ]
     },
     "metadata": {},
     "output_type": "display_data"
    },
    {
     "name": "stderr",
     "output_type": "stream",
     "text": [
      "  0%|          | 0/1 [00:00<?, ?it/s]"
     ]
    },
    {
     "ename": "",
     "evalue": "",
     "output_type": "error",
     "traceback": [
      "\u001b[1;31mThe Kernel crashed while executing code in the current cell or a previous cell. \n",
      "\u001b[1;31mPlease review the code in the cell(s) to identify a possible cause of the failure. \n",
      "\u001b[1;31mClick <a href='https://aka.ms/vscodeJupyterKernelCrash'>here</a> for more info. \n",
      "\u001b[1;31mView Jupyter <a href='command:jupyter.viewOutput'>log</a> for further details."
     ]
    }
   ],
   "source": [
    "import torch\n",
    "from tqdm import tqdm\n",
    "from torch.optim import AdamW\n",
    "from torch.utils.data import Dataset, DataLoader\n",
    "from transformers import AutoTokenizer, AutoModelForCausalLM\n",
    "from huggingface_hub import login\n",
    "\n",
    "# === Step 0: Login on Hugging Face (coloque seu token aqui se necessário) ===\n",
    "# Step 0: Code for reading HuggingFace token\n",
    "def get_huggingface_token():\n",
    "    f = open(\"huggingface_token.txt\", \"r\")\n",
    "    return (f.read())\n",
    "\n",
    "login(token=get_huggingface_token())  # Descomente se preferir login via código\n",
    "\n",
    "# === Step 1: Define LLaMA 2 model ===\n",
    "model_name = \"meta-llama/Llama-2-7b-hf\"\n",
    "tokenizer = AutoTokenizer.from_pretrained(model_name, use_auth_token=True)\n",
    "tokenizer.pad_token = tokenizer.eos_token\n",
    "\n",
    "# === Step 2: Add custom tokens ===\n",
    "log_templates = [\n",
    "    \"Error encountered in module X\",\n",
    "    \"Error encountered in\",\n",
    "    \"Unexpected behavior in network communication\",\n",
    "    \"System rebooted successfully\",\n",
    "    \"Segmentation fault in memory allocation\"\n",
    "]\n",
    "tokenizer.add_tokens(log_templates)\n",
    "\n",
    "# === Step 3: Prepare sequences ===\n",
    "sequences = [\n",
    "    \"Error encountered in module X The weather is great today. I am working hard.\",\n",
    "    \"The system rebooted successfully after the error.\"\n",
    "]\n",
    "\n",
    "tokenized_sequences = tokenizer(\n",
    "    sequences,\n",
    "    truncation=True,\n",
    "    padding=True,\n",
    "    max_length=128,\n",
    "    return_tensors=\"pt\"\n",
    ")\n",
    "\n",
    "# === Step 4: Load LLaMA 2 model ===\n",
    "model = AutoModelForCausalLM.from_pretrained(\n",
    "    model_name,\n",
    "    use_auth_token=True,\n",
    "    torch_dtype=torch.float16,\n",
    "    device_map=\"auto\"\n",
    ")\n",
    "\n",
    "# === Step 5: Resize embeddings to include new tokens ===\n",
    "model.resize_token_embeddings(len(tokenizer))\n",
    "\n",
    "# === Step 6: Prepare Dataset & Dataloader ===\n",
    "class LogSequenceDataset(Dataset):\n",
    "    def __init__(self, tokenized_sequences):\n",
    "        self.input_ids = tokenized_sequences['input_ids']\n",
    "        self.attention_mask = tokenized_sequences['attention_mask']\n",
    "        \n",
    "    def __len__(self):\n",
    "        return self.input_ids.shape[0]\n",
    "    \n",
    "    def __getitem__(self, idx):\n",
    "        return {\n",
    "            'input_ids': self.input_ids[idx],\n",
    "            'attention_mask': self.attention_mask[idx]\n",
    "        }\n",
    "\n",
    "dataset = LogSequenceDataset(tokenized_sequences)\n",
    "dataloader = DataLoader(dataset, batch_size=2, shuffle=True)\n",
    "\n",
    "# === Step 7: Optimizer ===\n",
    "optimizer = AdamW(model.parameters(), lr=5e-5)\n",
    "\n",
    "# === Step 8: Train the model ===\n",
    "device = torch.device(\"cuda\" if torch.cuda.is_available() else \"cpu\")\n",
    "\n",
    "epochs = 3\n",
    "for epoch in range(epochs):\n",
    "    model.train()\n",
    "    loop = tqdm(dataloader, desc=f\"Epoch {epoch+1}/{epochs}\", leave=True)\n",
    "    \n",
    "    for batch in loop:\n",
    "        input_ids = batch['input_ids'].to(device)\n",
    "        attention_mask = batch['attention_mask'].to(device)\n",
    "\n",
    "        optimizer.zero_grad()\n",
    "\n",
    "        outputs = model(input_ids, attention_mask=attention_mask, labels=input_ids)\n",
    "        loss = outputs.loss\n",
    "        loss.backward()\n",
    "        optimizer.step()\n",
    "\n",
    "        loop.set_postfix(loss=loss.item())\n",
    "\n",
    "# === Step 9: Save fine-tuned model ===\n",
    "model.save_pretrained(\"fine_tuned_llama2\")\n",
    "tokenizer.save_pretrained(\"fine_tuned_llama2\")\n",
    "print(\"✅ Fine-tuning completed and model saved.\")\n"
   ]
  },
  {
   "cell_type": "code",
   "execution_count": null,
   "metadata": {},
   "outputs": [
    {
     "name": "stderr",
     "output_type": "stream",
     "text": [
      "/home/vbertalan/anaconda3/lib/python3.9/site-packages/torch/amp/grad_scaler.py:131: UserWarning: torch.cuda.amp.GradScaler is enabled, but CUDA is not available.  Disabling.\n",
      "  warnings.warn(\n",
      "Epoch 1/3:   0%|          | 0/1 [00:00<?, ?it/s]/home/vbertalan/anaconda3/lib/python3.9/site-packages/torch/amp/autocast_mode.py:250: UserWarning: User provided device_type of 'cuda', but CUDA is not available. Disabling\n",
      "  warnings.warn(\n",
      "Epoch 1/3: 100%|██████████| 1/1 [00:00<00:00,  1.15it/s, loss=105]\n",
      "Epoch 2/3: 100%|██████████| 1/1 [00:00<00:00,  1.36it/s, loss=77]\n",
      "Epoch 3/3: 100%|██████████| 1/1 [00:00<00:00,  1.69it/s, loss=61.3]\n"
     ]
    },
    {
     "name": "stdout",
     "output_type": "stream",
     "text": [
      "Fine-tuning completed and model saved.\n"
     ]
    }
   ],
   "source": [
    "import torch\n",
    "from torch.optim import AdamW\n",
    "from torch.utils.data import Dataset, DataLoader\n",
    "from transformers import GPT2Tokenizer, GPT2LMHeadModel\n",
    "from tqdm import tqdm\n",
    "\n",
    "template_file = \"\"\n",
    "log_file = \"gpt2_logs.log\"\n",
    "\n",
    "# Função auxiliar para ler linhas de um arquivo como lista\n",
    "def read_lines_from_file(filename):\n",
    "    with open(filename, \"r\", encoding=\"utf-8\") as f:\n",
    "        return [line.strip() for line in f.readlines() if line.strip()]\n",
    "\n",
    "# Step 1: Load GPT-2 tokenizer and add custom log templates\n",
    "tokenizer = GPT2Tokenizer.from_pretrained(\"llama2-7b\")\n",
    "\n",
    "# Carregar log templates de arquivo externo\n",
    "log_templates = read_lines_from_file(template_file)\n",
    "\n",
    "# Adicionar os log templates como novos tokens no tokenizer\n",
    "tokenizer.add_tokens(log_templates)\n",
    "\n",
    "# Definir token de padding\n",
    "tokenizer.pad_token = tokenizer.eos_token\n",
    "\n",
    "# Step 2: Carregar sequências de log de arquivo externo\n",
    "sequences = read_lines_from_file(log_file)\n",
    "\n",
    "# Tokenizar as sequências\n",
    "tokenized_sequences = tokenizer(\n",
    "    sequences,\n",
    "    truncation=True,\n",
    "    padding=True,\n",
    "    max_length=128,\n",
    "    return_tensors=\"pt\"\n",
    ")\n",
    "\n",
    "# Step 3: Load pre-trained GPT-2 model\n",
    "model = GPT2LMHeadModel.from_pretrained(\"gpt2\")\n",
    "model.resize_token_embeddings(len(tokenizer))\n",
    "\n",
    "# Step 4: Dataset e DataLoader\n",
    "class LogSequenceDataset(Dataset):\n",
    "    def __init__(self, tokenized_sequences):\n",
    "        self.input_ids = tokenized_sequences['input_ids']\n",
    "        self.attention_mask = tokenized_sequences['attention_mask']\n",
    "        \n",
    "    def __len__(self):\n",
    "        return self.input_ids.shape[0]\n",
    "    \n",
    "    def __getitem__(self, idx):\n",
    "        return {\n",
    "            'input_ids': self.input_ids[idx],\n",
    "            'attention_mask': self.attention_mask[idx]\n",
    "        }\n",
    "\n",
    "dataset = LogSequenceDataset(tokenized_sequences)\n",
    "dataloader = DataLoader(dataset, batch_size=2, shuffle=True)\n",
    "\n",
    "# Step 5: Optimizer\n",
    "optimizer = AdamW(model.parameters(), lr=5e-5)\n",
    "\n",
    "# Step 6: Enable embedding updates\n",
    "model.get_input_embeddings().requires_grad_(True)\n",
    "\n",
    "# Step 7: Training\n",
    "device = torch.device(\"cuda\" if torch.cuda.is_available() else \"cpu\")\n",
    "model.to(device)\n",
    "\n",
    "epochs = 3\n",
    "\n",
    "for epoch in range(epochs):\n",
    "    model.train()\n",
    "    loop = tqdm(dataloader, leave=True)\n",
    "    \n",
    "    for batch in loop:\n",
    "        input_ids = batch['input_ids'].to(device)\n",
    "        attention_mask = batch['attention_mask'].to(device)\n",
    "        \n",
    "        optimizer.zero_grad()\n",
    "        outputs = model(input_ids, attention_mask=attention_mask, labels=input_ids)\n",
    "        loss = outputs.loss\n",
    "        loss.backward()\n",
    "        optimizer.step()\n",
    "        \n",
    "        loop.set_postfix(loss=loss.item())\n",
    "\n",
    "    print(f\"Epoch {epoch + 1}/{epochs} completed.\")\n",
    "\n",
    "# Salvar modelo e tokenizer\n",
    "model.save_pretrained(\"fine_tuned_gpt2\")\n",
    "tokenizer.save_pretrained(\"fine_tuned_gpt2\")\n",
    "\n",
    "print(\"Fine-tuning completed and model saved.\")"
   ]
  },
  {
   "cell_type": "code",
   "execution_count": 11,
   "metadata": {},
   "outputs": [
    {
     "name": "stderr",
     "output_type": "stream",
     "text": [
      "Token indices sequence length is longer than the specified maximum sequence length for this model (1026 > 1024). Running this sequence through the model will result in indexing errors\n"
     ]
    },
    {
     "name": "stdout",
     "output_type": "stream",
     "text": [
      "Total de logs: 652096\n",
      "Comprimento médio: 156.45 tokens\n",
      "Comprimento máximo: 1831 tokens\n"
     ]
    }
   ],
   "source": [
    "from transformers import GPT2Tokenizer\n",
    "\n",
    "# === CONFIGURAÇÃO ===\n",
    "LOG_FILE_PATH = \"/home/vbertalan/Downloads/gpt2_logs.log\"  # Caminho para seu arquivo .log\n",
    "\n",
    "# === Lê o arquivo de logs ===\n",
    "with open(LOG_FILE_PATH, \"r\", encoding=\"utf-8\") as f:\n",
    "    log_lines = [line.strip() for line in f if line.strip()]\n",
    "\n",
    "# === Inicializa o tokenizer GPT-2 ===\n",
    "tokenizer = GPT2Tokenizer.from_pretrained(\"gpt2\")\n",
    "tokenizer.pad_token = tokenizer.eos_token\n",
    "\n",
    "# === Calcula os comprimentos em tokens ===\n",
    "token_lens = [len(tokenizer(log)[\"input_ids\"]) for log in log_lines]\n",
    "\n",
    "# === Exibe estatísticas ===\n",
    "print(f\"Total de logs: {len(token_lens)}\")\n",
    "print(f\"Comprimento médio: {sum(token_lens)/len(token_lens):.2f} tokens\")\n",
    "print(f\"Comprimento máximo: {max(token_lens)} tokens\")\n"
   ]
  }
 ],
 "metadata": {
  "kernelspec": {
   "display_name": "base",
   "language": "python",
   "name": "python3"
  },
  "language_info": {
   "codemirror_mode": {
    "name": "ipython",
    "version": 3
   },
   "file_extension": ".py",
   "mimetype": "text/x-python",
   "name": "python",
   "nbconvert_exporter": "python",
   "pygments_lexer": "ipython3",
   "version": "3.9.19"
  }
 },
 "nbformat": 4,
 "nbformat_minor": 2
}
