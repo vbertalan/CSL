{
 "cells": [
  {
   "cell_type": "code",
   "execution_count": 2,
   "metadata": {},
   "outputs": [
    {
     "data": {
      "application/vnd.jupyter.widget-view+json": {
       "model_id": "f90a716b44ab4d8f9da40029d69681fb",
       "version_major": 2,
       "version_minor": 0
      },
      "text/plain": [
       "Loading checkpoint shards:   0%|          | 0/2 [00:00<?, ?it/s]"
      ]
     },
     "metadata": {},
     "output_type": "display_data"
    },
    {
     "name": "stderr",
     "output_type": "stream",
     "text": [
      "Setting `pad_token_id` to `eos_token_id`:128001 for open-end generation.\n"
     ]
    },
    {
     "name": "stdout",
     "output_type": "stream",
     "text": [
      "Here are some possible names for capitals of futuristic countries:\n",
      "\n",
      "1. **Luminaria**: A city of lights, symbolizing innovation and progress.\n",
      "2. **Nova Haven**: A futuristic city that represents a new beginning and a safe haven for its citizens.\n",
      "3. **Cygnus**: A city of swans, evoking a sense of elegance and sophistication.\n",
      "4. **Aurora City**: A city that represents the dawn of a new era, symbolizing hope and renewal.\n",
      "5. **Elysium**: A city of paradise, representing a utopian society where citizens live in harmony with technology.\n",
      "6. **Kairos**: A city of opportunity, representing a hub of innovation and progress.\n",
      "7. **Spectra**: A city of colors, representing a vibrant and diverse community.\n",
      "8. **Arcadia**: A city of beauty and wonder, representing a futuristic society that values art and culture.\n",
      "9. **Paragon**: A city of excellence, representing a society that strives for perfection.\n",
      "10. **Zenith**: A city of the highest point, representing a society that aims for greatness.\n",
      "11. **Lyrax**: A city of music and poetry, representing a society that values creativity and self-expression.\n",
      "12. **Nexus**: A\n"
     ]
    }
   ],
   "source": [
    "from transformers import pipeline\n",
    "import torch\n",
    "\n",
    "model_id = \"meta-llama/Llama-3.2-3B-Instruct\"\n",
    "pipe = pipeline(\n",
    "    \"text-generation\",\n",
    "    model=model_id,\n",
    "    torch_dtype=torch.bfloat16,\n",
    "    device_map=\"auto\",\n",
    ")\n",
    "\n",
    "messages = [\n",
    "    {\"role\": \"user\", \"content\": \"Give me the names of possible capitals of futuristic countries. \"},\n",
    "]\n",
    "outputs = pipe(\n",
    "    messages,\n",
    "    max_new_tokens=256,\n",
    ")\n",
    "response = outputs[0][\"generated_text\"][-1][\"content\"]\n",
    "print(response)"
   ]
  }
 ],
 "metadata": {
  "kernelspec": {
   "display_name": "base",
   "language": "python",
   "name": "python3"
  },
  "language_info": {
   "codemirror_mode": {
    "name": "ipython",
    "version": 3
   },
   "file_extension": ".py",
   "mimetype": "text/x-python",
   "name": "python",
   "nbconvert_exporter": "python",
   "pygments_lexer": "ipython3",
   "version": "3.9.19"
  }
 },
 "nbformat": 4,
 "nbformat_minor": 2
}
