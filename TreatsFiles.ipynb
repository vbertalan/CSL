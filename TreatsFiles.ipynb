{
 "cells": [
  {
   "cell_type": "code",
   "execution_count": 1,
   "metadata": {},
   "outputs": [
    {
     "data": {
      "text/plain": [
       "'key: /nfs/appdata/6500_build/rel/6500_16.90/290147/logs/_6500_build.cc/400G_otn_fmotr_simbc, value: [tput no value for term and no t specified, tput no value for term and no t specified, tput no value for term and no t specified, tput no value for term and no t specified, tput no value for term and no t specified, mv cannot stat no such file or directory, sed can t read temp no such file or directory, error gnu compilers before are not supported anymore, error unsupported toolchain, no such file, cp cannot stat no such file or directory, cp cannot stat no such file or directory, cp cannot stat no such file or directory, cp cannot stat no such file or directory, cp cannot stat no such file or directory, cp cannot stat no such file or directory, cp cannot stat no such file or directory, cp cannot stat no such file or directory, cp cannot stat no such file or directory, cp cannot stat no such file or directory, tput no value for term and no t specified]\\n'"
      ]
     },
     "execution_count": 1,
     "metadata": {},
     "output_type": "execute_result"
    }
   ],
   "source": [
    "file_path = \"/home/vbertalan/Downloads/gpt2_data.json\"\n",
    "\n",
    "def read_first_line_of_json(file_path):\n",
    "    \"\"\"\n",
    "    Reads and returns the first line from a JSON file.\n",
    "    \n",
    "    :param file_path: Path to the JSON file\n",
    "    :return: The first line of the file as a string (including newline if present)\n",
    "    \"\"\"\n",
    "    with open(file_path, 'r', encoding='utf-8') as json_file:\n",
    "        first_line = json_file.readline()\n",
    "    return first_line\n",
    "\n",
    "read_first_line_of_json(file_path)"
   ]
  },
  {
   "cell_type": "code",
   "execution_count": null,
   "metadata": {},
   "outputs": [],
   "source": [
    "import json\n",
    "\n",
    "file_path = \"/home/vbertalan/Downloads/gpt2_data.json\"\n",
    "\n",
    "def extract_value_string(file_path):\n",
    "    \"\"\"\n",
    "    Reads the first 20 lines of a text file where each line has a format like:\n",
    "    'key: ..., value: [ ... ]'\n",
    "    and returns the string following 'value:' for each line, excluding any\n",
    "    leading '[' and trailing ']'.\n",
    "    \n",
    "    :param file_path: Path to your file\n",
    "    :return: List of strings (the part after 'value:' in each of the first 20 lines, \n",
    "             without the outer brackets)\n",
    "    \"\"\"\n",
    "    extracted_values = []\n",
    "    \n",
    "    with open(file_path, 'r', encoding='utf-8') as file:\n",
    "        for _ in range(20):\n",
    "            line = file.readline()\n",
    "            if not line:\n",
    "                # No more lines to read\n",
    "                break\n",
    "            \n",
    "            # Remove any leading/trailing whitespace\n",
    "            line = line.strip()\n",
    "            \n",
    "            # Split on \"value:\"\n",
    "            if \"value:\" in line:\n",
    "                parts = line.split(\"value:\", 1)  # Split once, into [before_value, after_value]\n",
    "                value_part = parts[1].strip()    # The substring after 'value:'\n",
    "                \n",
    "                # If the string starts with '[' and ends with ']', remove them\n",
    "                if value_part.startswith(\"[\") and value_part.endswith(\"]\"):\n",
    "                    value_part = value_part[1:-1].strip()\n",
    "                \n",
    "                extracted_values.append(value_part)\n",
    "            else:\n",
    "                # If the line doesn't contain \"value:\", append None or skip\n",
    "                extracted_values.append(None)\n",
    "    \n",
    "    return extracted_values\n",
    "\n",
    "mylist = extract_value_string(file_path)\n",
    "print(mylist)"
   ]
  },
  {
   "cell_type": "code",
   "execution_count": null,
   "metadata": {},
   "outputs": [],
   "source": [
    "print(mylist[1])"
   ]
  },
  {
   "cell_type": "code",
   "execution_count": null,
   "metadata": {},
   "outputs": [],
   "source": [
    "import csv\n",
    "\n",
    "def extract_value_string_excluding_brackets_all(file_path, output_file):\n",
    "    \"\"\"\n",
    "    Lê todas as linhas de um arquivo em que cada linha segue o formato:\n",
    "    'key: ..., value: [ ... ]'\n",
    "    e retorna a string que aparece após 'value:', removendo os colchetes\n",
    "    iniciais '[' e finais ']' (se existirem).\n",
    "\n",
    "    Salva esses valores em um arquivo CSV (output_file), onde cada valor\n",
    "    aparece em uma linha, na coluna 'extracted_value'.\n",
    "\n",
    "    :param file_path: Caminho para o arquivo a ser lido.\n",
    "    :param output_file: Caminho para o arquivo CSV onde será salvo o resultado.\n",
    "    :return: Lista de strings (parte após 'value:' em cada linha, sem colchetes).\n",
    "    \"\"\"\n",
    "    extracted_values = []\n",
    "\n",
    "    # Lê o arquivo de entrada e extrai os valores\n",
    "    with open(file_path, 'r', encoding='utf-8') as file:\n",
    "        for line in file:\n",
    "            line = line.strip()\n",
    "            \n",
    "            # Verifica se 'value:' está na linha\n",
    "            if \"value:\" in line:\n",
    "                parts = line.split(\"value:\", 1)  # Divide uma vez apenas\n",
    "                value_part = parts[1].strip()    # Pega o texto depois de 'value:'\n",
    "                \n",
    "                # Remove colchetes iniciais e finais, se ambos existirem\n",
    "                if value_part.startswith(\"[\") and value_part.endswith(\"]\"):\n",
    "                    value_part = value_part[1:-1].strip()\n",
    "                \n",
    "                extracted_values.append(value_part)\n",
    "            else:\n",
    "                extracted_values.append(None)\n",
    "\n",
    "    # Salva os valores extraídos em um arquivo CSV\n",
    "    with open(output_file, 'w', newline='', encoding='utf-8') as csv_file:\n",
    "        writer = csv.writer(csv_file)\n",
    "        \n",
    "        # Escreve um cabeçalho opcional\n",
    "        writer.writerow([\"extracted_value\"])\n",
    "        \n",
    "        # Escreve cada valor em uma linha\n",
    "        for val in extracted_values:\n",
    "            # Se quiser ignorar as linhas que não contêm 'value:', \n",
    "            # basta não escrever quando for None.\n",
    "            if val is not None:\n",
    "                writer.writerow([val])\n",
    "            else:\n",
    "                # Caso prefira indicar que não havia valor, escreva algo como 'None'\n",
    "                writer.writerow([\"None\"])\n",
    "\n",
    "    return extracted_values\n",
    "\n",
    "file_path = \"/home/vbertalan/Downloads/gpt2_data.json\"                                              # Substitua pelo caminho real do seu arquivo de entrada\n",
    "output_file = \"/home/vbertalan/Downloads/gpt2_data_values.csv\"                                      # Substitua pelo caminho/arquivo CSV de saída desejado\n",
    "extract_value_string_excluding_brackets_all(file_path, output_file)"
   ]
  },
  {
   "cell_type": "code",
   "execution_count": 3,
   "metadata": {},
   "outputs": [
    {
     "name": "stdout",
     "output_type": "stream",
     "text": [
      "O arquivo '/home/vbertalan/Downloads/gpt2_data.json' possui 652096 linhas.\n",
      "O arquivo '/home/vbertalan/Downloads/gpt2_data_values.csv' possui 652097 linhas.\n"
     ]
    }
   ],
   "source": [
    "def contar_linhas_json(caminho_arquivo):\n",
    "    with open(caminho_arquivo, 'r', encoding='utf-8') as arquivo:\n",
    "        # Contamos cada linha que lemos usando sum(1 for ...)\n",
    "        quantidade_linhas = sum(1 for _ in arquivo)\n",
    "    return quantidade_linhas\n",
    "\n",
    "\n",
    "caminho_do_arquivo = \"/home/vbertalan/Downloads/gpt2_data.json\"  # Substitua pelo nome ou caminho do seu arquivo JSON\n",
    "total_linhas = contar_linhas_json(caminho_do_arquivo)\n",
    "print(f\"O arquivo '{caminho_do_arquivo}' possui {total_linhas} linhas.\")\n",
    "\n",
    "\n",
    "import csv\n",
    "\n",
    "def contar_linhas_csv(caminho_arquivo):\n",
    "    with open(caminho_arquivo, 'r', encoding='utf-8') as arquivo:\n",
    "        leitor = csv.reader(arquivo)\n",
    "        total_linhas = sum(1 for _ in leitor)\n",
    "    return total_linhas\n",
    "\n",
    "caminho_do_arquivo = \"/home/vbertalan/Downloads/gpt2_data_values.csv\"  # Substitua pelo caminho do seu arquivo CSV\n",
    "linhas = contar_linhas_csv(caminho_do_arquivo)\n",
    "print(f\"O arquivo '{caminho_do_arquivo}' possui {linhas} linhas.\")"
   ]
  }
 ],
 "metadata": {
  "kernelspec": {
   "display_name": "base",
   "language": "python",
   "name": "python3"
  },
  "language_info": {
   "codemirror_mode": {
    "name": "ipython",
    "version": 3
   },
   "file_extension": ".py",
   "mimetype": "text/x-python",
   "name": "python",
   "nbconvert_exporter": "python",
   "pygments_lexer": "ipython3",
   "version": "3.9.19"
  }
 },
 "nbformat": 4,
 "nbformat_minor": 2
}
